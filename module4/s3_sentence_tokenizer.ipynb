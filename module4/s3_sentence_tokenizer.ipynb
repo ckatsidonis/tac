{
 "metadata": {
  "language_info": {
   "codemirror_mode": {
    "name": "ipython",
    "version": 3
   },
   "file_extension": ".py",
   "mimetype": "text/x-python",
   "name": "python",
   "nbconvert_exporter": "python",
   "pygments_lexer": "ipython3",
   "version": "3.9.0-final"
  },
  "orig_nbformat": 2,
  "kernelspec": {
   "name": "python3",
   "display_name": "Python 3.9.0 64-bit",
   "metadata": {
    "interpreter": {
     "hash": "aee8b7b246df8f9039afb4144a1f6fd8d2ca17a180786b69acc140d282b71a49"
    }
   }
  }
 },
 "nbformat": 4,
 "nbformat_minor": 2,
 "cells": [
  {
   "cell_type": "code",
   "execution_count": 1,
   "metadata": {},
   "outputs": [],
   "source": [
    "import os\n",
    "import sys\n",
    "import nltk\n",
    "from nltk.tokenize import sent_tokenize"
   ]
  },
  {
   "source": [
    "# Fichiers d'inputs et d'outputs"
   ],
   "cell_type": "markdown",
   "metadata": {}
  },
  {
   "cell_type": "code",
   "execution_count": 2,
   "metadata": {},
   "outputs": [],
   "source": [
    "infile = \"../data/all.txt\"\n",
    "outfile = \"../data/sents.txt\""
   ]
  },
  {
   "source": [
    "# Tokenisation du corpus ligne par ligne"
   ],
   "cell_type": "markdown",
   "metadata": {}
  },
  {
   "source": [
    "**Important** : pour traiter tout le corpus, mettez `LIMIT = None`"
   ],
   "cell_type": "markdown",
   "metadata": {}
  },
  {
   "cell_type": "code",
   "execution_count": 3,
   "metadata": {},
   "outputs": [],
   "source": [
    "LIMIT = None"
   ]
  },
  {
   "cell_type": "code",
   "execution_count": 4,
   "metadata": {
    "tags": []
   },
   "outputs": [
    {
     "output_type": "stream",
     "name": "stdout",
     "text": [
      "processing line 0/6910962\n",
      "processing line 100000/6910962\n",
      "processing line 200000/6910962\n",
      "processing line 300000/6910962\n",
      "processing line 400000/6910962\n",
      "processing line 500000/6910962\n",
      "processing line 600000/6910962\n",
      "processing line 700000/6910962\n",
      "processing line 800000/6910962\n",
      "processing line 900000/6910962\n",
      "processing line 1000000/6910962\n",
      "processing line 1100000/6910962\n",
      "processing line 1200000/6910962\n",
      "processing line 1300000/6910962\n",
      "processing line 1400000/6910962\n",
      "processing line 1500000/6910962\n",
      "processing line 1600000/6910962\n",
      "processing line 1700000/6910962\n",
      "processing line 1800000/6910962\n",
      "processing line 1900000/6910962\n",
      "processing line 2000000/6910962\n",
      "processing line 2100000/6910962\n",
      "processing line 2200000/6910962\n",
      "processing line 2300000/6910962\n",
      "processing line 2400000/6910962\n",
      "processing line 2500000/6910962\n",
      "processing line 2600000/6910962\n",
      "processing line 2700000/6910962\n",
      "processing line 2800000/6910962\n",
      "processing line 2900000/6910962\n",
      "processing line 3000000/6910962\n",
      "processing line 3100000/6910962\n",
      "processing line 3200000/6910962\n",
      "processing line 3300000/6910962\n",
      "processing line 3400000/6910962\n",
      "processing line 3500000/6910962\n",
      "processing line 3600000/6910962\n",
      "processing line 3700000/6910962\n",
      "processing line 3800000/6910962\n",
      "processing line 3900000/6910962\n",
      "processing line 4000000/6910962\n",
      "processing line 4100000/6910962\n",
      "processing line 4200000/6910962\n",
      "processing line 4300000/6910962\n",
      "processing line 4400000/6910962\n",
      "processing line 4500000/6910962\n",
      "processing line 4600000/6910962\n",
      "processing line 4700000/6910962\n",
      "processing line 4800000/6910962\n",
      "processing line 4900000/6910962\n",
      "processing line 5000000/6910962\n",
      "processing line 5100000/6910962\n",
      "processing line 5200000/6910962\n",
      "processing line 5300000/6910962\n",
      "processing line 5400000/6910962\n",
      "processing line 5500000/6910962\n",
      "processing line 5600000/6910962\n",
      "processing line 5700000/6910962\n",
      "processing line 5800000/6910962\n",
      "processing line 5900000/6910962\n",
      "processing line 6000000/6910962\n",
      "processing line 6100000/6910962\n",
      "processing line 6200000/6910962\n",
      "processing line 6300000/6910962\n",
      "processing line 6400000/6910962\n",
      "processing line 6500000/6910962\n",
      "processing line 6600000/6910962\n",
      "processing line 6700000/6910962\n",
      "processing line 6800000/6910962\n",
      "processing line 6900000/6910962\n"
     ]
    }
   ],
   "source": [
    "with open(outfile, 'w', encoding=\"utf-8\") as output:\n",
    "    with open(infile, encoding=\"utf-8\", errors=\"backslashreplace\") as f:\n",
    "        content = f.readlines()\n",
    "        content = content[:LIMIT] if LIMIT is not None else content\n",
    "        n_lines = len(content)\n",
    "        for i, line in enumerate(content):\n",
    "            if i % 100000 == 0:\n",
    "                print(f'processing line {i}/{n_lines}')\n",
    "            sentences = sent_tokenize(line)\n",
    "            for sent in sentences:\n",
    "                output.write(sent + \"\\n\")"
   ]
  }
 ]
}