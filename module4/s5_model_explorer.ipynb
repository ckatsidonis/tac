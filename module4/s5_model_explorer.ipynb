{
 "metadata": {
  "language_info": {
   "codemirror_mode": {
    "name": "ipython",
    "version": 3
   },
   "file_extension": ".py",
   "mimetype": "text/x-python",
   "name": "python",
   "nbconvert_exporter": "python",
   "pygments_lexer": "ipython3",
   "version": "3.8.3-final"
  },
  "orig_nbformat": 2,
  "kernelspec": {
   "name": "python3",
   "display_name": "Python 3"
  }
 },
 "nbformat": 4,
 "nbformat_minor": 2,
 "cells": [
  {
   "cell_type": "code",
   "execution_count": 1,
   "metadata": {},
   "outputs": [],
   "source": [
    "from gensim.models import Word2Vec\n",
    "from pprint import pprint"
   ]
  },
  {
   "source": [
    "# Charger le modèle que nous venons de créer"
   ],
   "cell_type": "markdown",
   "metadata": {}
  },
  {
   "cell_type": "code",
   "execution_count": 2,
   "metadata": {},
   "outputs": [],
   "source": [
    "model = Word2Vec.load(\"../data/bulletins.model\")"
   ]
  },
  {
   "source": [
    "# Comment est représenté le mot \"rue\" ?"
   ],
   "cell_type": "markdown",
   "metadata": {}
  },
  {
   "cell_type": "code",
   "execution_count": 3,
   "metadata": {},
   "outputs": [
    {
     "output_type": "execute_result",
     "data": {
      "text/plain": [
       "array([-2.605131  , -2.9097946 , -2.2906077 ,  2.0318358 , -8.229588  ,\n",
       "       -2.3664849 ,  1.8709319 ,  2.5345693 , -8.282964  , -9.64379   ,\n",
       "        3.4092264 , -1.1161312 ,  2.8802135 ,  1.011305  ,  0.47026452,\n",
       "       -0.21948169,  0.20807002,  1.8393766 , -2.4588    ,  0.02155272,\n",
       "       -7.616512  , -9.295831  ,  1.0172169 ,  6.789509  ,  7.697759  ,\n",
       "       -2.8826885 , -5.4315453 , -3.764955  , -1.6692277 , -0.6978118 ,\n",
       "       -3.6546984 , -3.059799  , -0.71751815, -0.03062642, -7.2879395 ,\n",
       "       -2.3281653 , -4.5204997 ,  1.6961144 ,  4.25719   , -6.0883493 ,\n",
       "        4.2749968 , -3.3425462 , -1.5353483 , -1.2396234 , -3.5369163 ,\n",
       "       -2.0028439 , -5.6456537 ,  3.1228817 ,  1.6347839 , 10.78809   ,\n",
       "       -2.7911916 , -2.2532804 , -3.064586  ,  0.25495708, -0.18453155,\n",
       "       -0.40724444,  3.751134  , -4.449099  ,  3.9441197 , -0.82882863,\n",
       "       -1.0077125 ,  6.8212214 ,  3.580148  , -5.098278  ], dtype=float32)"
      ]
     },
     "metadata": {},
     "execution_count": 3
    }
   ],
   "source": [
    "model[\"rue\"]"
   ]
  },
  {
   "source": [
    "# Et fleuriste ?"
   ],
   "cell_type": "markdown",
   "metadata": {}
  },
  {
   "cell_type": "code",
   "execution_count": 4,
   "metadata": {},
   "outputs": [
    {
     "output_type": "execute_result",
     "data": {
      "text/plain": [
       "array([ 0.12733883, -0.6354905 ,  1.1676208 , -0.13787198, -1.0585294 ,\n",
       "       -0.26881206,  0.03288614,  0.10142709, -0.9001281 , -0.14935198,\n",
       "        0.9072692 ,  0.52002555,  1.7570586 , -0.14467451, -1.3675079 ,\n",
       "        0.73932403, -0.01276682, -0.3814479 , -0.38790998,  0.86502993,\n",
       "       -0.85956776, -0.42603934,  1.3627888 ,  0.90688926,  0.47760153,\n",
       "       -0.57211494, -0.7495278 , -0.2943416 , -0.39347976, -0.2555359 ,\n",
       "        0.0197369 , -0.6694086 , -0.43573195,  0.51919264, -0.12563607,\n",
       "        0.66822755,  0.00477952,  0.32173097,  0.10907704, -0.5563058 ,\n",
       "        0.2030512 ,  0.23184355,  0.10553464,  0.81854874, -0.3191296 ,\n",
       "        0.47285932, -0.54577243,  0.7975464 , -0.7280326 ,  0.32354173,\n",
       "       -1.23572   ,  0.32604295, -0.06963452,  0.03854495, -0.86593014,\n",
       "       -1.0496018 , -0.7250183 , -0.6865063 ,  0.04179173,  0.34329027,\n",
       "       -0.62441045,  0.9665335 ,  0.44884416, -0.7594011 ], dtype=float32)"
      ]
     },
     "metadata": {},
     "execution_count": 4
    }
   ],
   "source": [
    "model['fleuriste']"
   ]
  },
  {
   "source": [
    "# Quel est leur similarité ?"
   ],
   "cell_type": "markdown",
   "metadata": {}
  },
  {
   "cell_type": "code",
   "execution_count": 5,
   "metadata": {},
   "outputs": [
    {
     "output_type": "execute_result",
     "data": {
      "text/plain": [
       "0.44154504"
      ]
     },
     "metadata": {},
     "execution_count": 5
    }
   ],
   "source": [
    "model.wv.similarity(\"pain\", \"boulanger\")"
   ]
  },
  {
   "cell_type": "code",
   "execution_count": 6,
   "metadata": {},
   "outputs": [
    {
     "output_type": "execute_result",
     "data": {
      "text/plain": [
       "0.550175"
      ]
     },
     "metadata": {},
     "execution_count": 6
    }
   ],
   "source": [
    "model.wv.similarity(\"maison\", \"habitation\")"
   ]
  },
  {
   "cell_type": "code",
   "execution_count": 7,
   "metadata": {},
   "outputs": [
    {
     "output_type": "execute_result",
     "data": {
      "text/plain": [
       "0.49998933"
      ]
     },
     "metadata": {},
     "execution_count": 7
    }
   ],
   "source": [
    "model.wv.similarity(\"echevin\", \"bourgmestre\")"
   ]
  },
  {
   "cell_type": "code",
   "execution_count": 8,
   "metadata": {},
   "outputs": [
    {
     "output_type": "execute_result",
     "data": {
      "text/plain": [
       "0.4960065"
      ]
     },
     "metadata": {},
     "execution_count": 8
    }
   ],
   "source": [
    "model.wv.similarity(\"maison_communale\", \"commune\")"
   ]
  },
  {
   "cell_type": "code",
   "execution_count": 9,
   "metadata": {},
   "outputs": [
    {
     "output_type": "execute_result",
     "data": {
      "text/plain": [
       "0.2878285"
      ]
     },
     "metadata": {},
     "execution_count": 9
    }
   ],
   "source": [
    "model.wv.similarity(\"vanden_boeynants\", \"ministre\")"
   ]
  },
  {
   "source": [
    "# Quel mot est le plus proche de rue ?"
   ],
   "cell_type": "markdown",
   "metadata": {}
  },
  {
   "cell_type": "code",
   "execution_count": 10,
   "metadata": {},
   "outputs": [
    {
     "output_type": "execute_result",
     "data": {
      "text/plain": [
       "[('president', 0.737144947052002),\n",
       " ('rourgmestre', 0.7245101928710938),\n",
       " ('ministre', 0.7186444401741028),\n",
       " ('college', 0.7185357809066772),\n",
       " ('gouverneur', 0.7038800716400146)]"
      ]
     },
     "metadata": {},
     "execution_count": 10
    }
   ],
   "source": [
    "model.wv.most_similar(\"bourgmestre\",  topn=5)"
   ]
  },
  {
   "cell_type": "code",
   "execution_count": 11,
   "metadata": {},
   "outputs": [
    {
     "output_type": "execute_result",
     "data": {
      "text/plain": [
       "[('pain_blanc', 0.6915786862373352),\n",
       " ('froment', 0.6759397983551025),\n",
       " ('charbon', 0.6606926321983337),\n",
       " ('combustible', 0.6467272639274597),\n",
       " ('coke', 0.6446741819381714)]"
      ]
     },
     "metadata": {},
     "execution_count": 11
    }
   ],
   "source": [
    "model.wv.most_similar(\"pain\", topn=5)"
   ]
  },
  {
   "source": [
    "# Et de Bruxelles ?"
   ],
   "cell_type": "markdown",
   "metadata": {}
  },
  {
   "cell_type": "code",
   "execution_count": 12,
   "metadata": {},
   "outputs": [
    {
     "output_type": "execute_result",
     "data": {
      "text/plain": [
       "[('viaduc', 0.7565011978149414),\n",
       " ('sud', 0.7493401765823364),\n",
       " ('tunnel', 0.7485812902450562),\n",
       " ('nord', 0.7414740324020386),\n",
       " ('quartier', 0.74113929271698)]"
      ]
     },
     "metadata": {},
     "execution_count": 12
    }
   ],
   "source": [
    "model.wv.most_similar(\"metro\", topn=5)"
   ]
  },
  {
   "cell_type": "code",
   "execution_count": 13,
   "metadata": {},
   "outputs": [
    {
     "output_type": "execute_result",
     "data": {
      "text/plain": [
       "[('ruo', 0.8136533498764038),\n",
       " ('hue', 0.7885103225708008),\n",
       " ('rues_neuve', 0.7862319946289062),\n",
       " ('bue', 0.7756780385971069),\n",
       " ('rne', 0.7680920362472534)]"
      ]
     },
     "metadata": {},
     "execution_count": 13
    }
   ],
   "source": [
    "model.wv.most_similar(\"rue\", topn=5)"
   ]
  },
  {
   "source": [
    "# Comment obtenir une ville de France grâce à notre modèle ?"
   ],
   "cell_type": "markdown",
   "metadata": {}
  },
  {
   "cell_type": "code",
   "execution_count": 14,
   "metadata": {},
   "outputs": [
    {
     "output_type": "execute_result",
     "data": {
      "text/plain": [
       "[('huy', 0.7146839499473572),\n",
       " ('lille', 0.6914354562759399),\n",
       " ('prague', 0.6913226246833801),\n",
       " ('verviers', 0.6910855770111084),\n",
       " ('liege', 0.6748183369636536),\n",
       " ('londres', 0.6729917526245117),\n",
       " ('gand', 0.6644818186759949),\n",
       " ('paris', 0.6643723249435425),\n",
       " ('manchester', 0.6624563932418823),\n",
       " ('zurich', 0.6565842628479004),\n",
       " ('seraing', 0.6423143148422241),\n",
       " ('berlin', 0.629199743270874),\n",
       " ('hambourg', 0.6277890205383301),\n",
       " ('tournai', 0.6273863315582275),\n",
       " ('milan', 0.6079594492912292)]"
      ]
     },
     "metadata": {},
     "execution_count": 14
    }
   ],
   "source": [
    "model.wv.most_similar(positive=['bruxelles', 'france'], negative=['belgique'], topn=15)"
   ]
  },
  {
   "cell_type": "code",
   "execution_count": 15,
   "metadata": {},
   "outputs": [
    {
     "output_type": "execute_result",
     "data": {
      "text/plain": [
       "[('gand', 0.8479465842247009),\n",
       " ('verviers', 0.8246293067932129),\n",
       " ('lille', 0.8239470720291138),\n",
       " ('huy', 0.8065860867500305),\n",
       " ('londres', 0.8004648089408875)]"
      ]
     },
     "metadata": {},
     "execution_count": 15
    }
   ],
   "source": [
    "model.wv.most_similar(positive=['bruxelles', 'liege', 'france'], negative=['belgique'], topn=5)"
   ]
  }
 ]
}