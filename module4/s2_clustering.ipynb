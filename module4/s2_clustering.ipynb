{
 "metadata": {
  "language_info": {
   "codemirror_mode": {
    "name": "ipython",
    "version": 3
   },
   "file_extension": ".py",
   "mimetype": "text/x-python",
   "name": "python",
   "nbconvert_exporter": "python",
   "pygments_lexer": "ipython3",
   "version": "3.8.3-final"
  },
  "orig_nbformat": 2,
  "kernelspec": {
   "name": "python3",
   "display_name": "Python 3"
  }
 },
 "nbformat": 4,
 "nbformat_minor": 2,
 "cells": [
  {
   "cell_type": "code",
   "execution_count": 4,
   "metadata": {},
   "outputs": [],
   "source": [
    "import collections\n",
    "import os\n",
    "import string\n",
    "import sys\n",
    "\n",
    "import pandas as pd\n",
    "from nltk import word_tokenize\n",
    "from nltk.corpus import stopwords\n",
    "from pprint import pprint\n",
    "from sklearn.cluster import KMeans\n",
    "from sklearn.feature_extraction.text import TfidfVectorizer"
   ]
  },
  {
   "cell_type": "code",
   "execution_count": 5,
   "metadata": {},
   "outputs": [
    {
     "output_type": "stream",
     "name": "stderr",
     "text": [
      "[nltk_data] Downloading package punkt to\n[nltk_data]     /Users/charalambos/nltk_data...\n[nltk_data]   Package punkt is already up-to-date!\n"
     ]
    },
    {
     "output_type": "execute_result",
     "data": {
      "text/plain": [
       "True"
      ]
     },
     "metadata": {},
     "execution_count": 5
    }
   ],
   "source": [
    "import nltk\n",
    "\n",
    "nltk.download('punkt')"
   ]
  },
  {
   "cell_type": "code",
   "execution_count": 6,
   "metadata": {},
   "outputs": [],
   "source": [
    "data_path = \"../data/txt/\""
   ]
  },
  {
   "source": [
    "# Choix d'une décennie et du nombre de clusters"
   ],
   "cell_type": "markdown",
   "metadata": {}
  },
  {
   "cell_type": "code",
   "execution_count": 7,
   "metadata": {},
   "outputs": [],
   "source": [
    "DECADE = '1960'\n",
    "N_CLUSTERS = 5"
   ]
  },
  {
   "source": [
    "# Chargement des fichiers de la décennie"
   ],
   "cell_type": "markdown",
   "metadata": {}
  },
  {
   "cell_type": "code",
   "execution_count": 8,
   "metadata": {},
   "outputs": [],
   "source": [
    "files = [f for f in sorted(os.listdir(data_path)) if f\"_{DECADE[:-1]}\" in f]"
   ]
  },
  {
   "cell_type": "code",
   "execution_count": 9,
   "metadata": {},
   "outputs": [
    {
     "output_type": "execute_result",
     "data": {
      "text/plain": [
       "['Bxl_1960_Tome_II1_Part_1.txt',\n",
       " 'Bxl_1960_Tome_II1_Part_2.txt',\n",
       " 'Bxl_1960_Tome_II1_Part_3.txt',\n",
       " 'Bxl_1960_Tome_II1_Part_4.txt',\n",
       " 'Bxl_1960_Tome_II1_Part_5.txt',\n",
       " 'Bxl_1960_Tome_II1_Part_6.txt',\n",
       " 'Bxl_1960_Tome_II1_Part_7.txt',\n",
       " 'Bxl_1960_Tome_II1_Part_8.txt',\n",
       " 'Bxl_1960_Tome_II2_Part_1.txt',\n",
       " 'Bxl_1960_Tome_II2_Part_2.txt',\n",
       " 'Bxl_1960_Tome_II2_Part_3.txt',\n",
       " 'Bxl_1960_Tome_II2_Part_4.txt',\n",
       " 'Bxl_1960_Tome_II2_Part_5.txt',\n",
       " 'Bxl_1960_Tome_II2_Part_6.txt',\n",
       " 'Bxl_1960_Tome_II2_Part_7.txt']"
      ]
     },
     "metadata": {},
     "execution_count": 9
    }
   ],
   "source": [
    "# Exemple de fichiers\n",
    "files[:15]"
   ]
  },
  {
   "cell_type": "code",
   "execution_count": null,
   "metadata": {},
   "outputs": [],
   "source": []
  },
  {
   "cell_type": "code",
   "execution_count": 10,
   "metadata": {},
   "outputs": [],
   "source": [
    "texts = [open(data_path + f).read() for f in files]"
   ]
  },
  {
   "cell_type": "code",
   "execution_count": 11,
   "metadata": {},
   "outputs": [
    {
     "output_type": "execute_result",
     "data": {
      "text/plain": [
       "'PUBLICATION\\n\\nPERIODIQUE\\n\\nVILLE DE BRUXELLES\\n\\nAnnée 1960\\n\\nBULLETIN COMMUNAL\\nTOME II \"\\n_u\\n\\nImpr. H . 6 M . S C H A U M A N S\\nSociété Anonyme\\n\\nParvis Saint-Gilles, 41 Bruxelles 1960\\n\\n\\x0c\\x0cN\" 14\\n\\nCOMPTE\\n\\nR E N D U D E L A S E A N C E D U 1\"\\' A O U T\\n\\n1960\\n\\nVILLE\\n\\nDE\\n\\nBRUXELLES\\n\\nBULLETIN\\n(Publication\\n\\nCOMMUNAL\\npériodique)\\n\\nA n n é e 1960\\n\\nCONSEIL\\n\\nCOMMUNAL\\n\\nS é a n c e du\\n\\n1\\n\\ner\\n\\naoût\\n\\n1960.\\n\\nPRESIDENCE\\n\\n'"
      ]
     },
     "metadata": {},
     "execution_count": 11
    }
   ],
   "source": [
    "# Exemple de textes\n",
    "texts[0][:400]"
   ]
  },
  {
   "source": [
    "# Vectorisation du texte"
   ],
   "cell_type": "markdown",
   "metadata": {}
  },
  {
   "cell_type": "code",
   "execution_count": 12,
   "metadata": {},
   "outputs": [],
   "source": [
    "def process_text(text, stem=True):\n",
    "    \"\"\" Tokenize text and remove punctuation \"\"\"\n",
    "    text = text.translate(string.punctuation)\n",
    "    tokens = word_tokenize(text)\n",
    "    return tokens"
   ]
  },
  {
   "cell_type": "code",
   "execution_count": 13,
   "metadata": {},
   "outputs": [],
   "source": [
    "vectorizer = TfidfVectorizer(tokenizer=process_text,\n",
    "                                stop_words=stopwords.words('french'),\n",
    "                                max_df=0.5,\n",
    "                                min_df=0.1,\n",
    "                                lowercase=True)"
   ]
  },
  {
   "cell_type": "code",
   "execution_count": 14,
   "metadata": {},
   "outputs": [
    {
     "output_type": "stream",
     "name": "stdout",
     "text": [
      "CPU times: user 1min 15s, sys: 992 ms, total: 1min 16s\nWall time: 1min 17s\n"
     ]
    }
   ],
   "source": [
    "%time tfidf_vectors = vectorizer.fit_transform(texts)"
   ]
  },
  {
   "cell_type": "code",
   "execution_count": 15,
   "metadata": {},
   "outputs": [
    {
     "output_type": "execute_result",
     "data": {
      "text/plain": [
       "<420x6668 sparse matrix of type '<class 'numpy.float64'>'\n",
       "\twith 608083 stored elements in Compressed Sparse Row format>"
      ]
     },
     "metadata": {},
     "execution_count": 15
    }
   ],
   "source": [
    "tfidf_vectors"
   ]
  },
  {
   "cell_type": "code",
   "execution_count": 17,
   "metadata": {},
   "outputs": [
    {
     "output_type": "execute_result",
     "data": {
      "text/plain": [
       "fer        0.285979\n",
       "curage     0.210133\n",
       "chemins    0.159929\n",
       "tension    0.159280\n",
       "dma        0.153070\n",
       "             ...   \n",
       "munal      0.000000\n",
       "mur        0.000000\n",
       "murs       0.000000\n",
       "musin      0.000000\n",
       "#          0.000000\n",
       "Length: 6668, dtype: float64"
      ]
     },
     "metadata": {},
     "execution_count": 17
    }
   ],
   "source": [
    "# Exemple de vecteur TFIDF\n",
    "pd.Series(\n",
    "    tfidf_vectors[0].toarray()[0],\n",
    "    index=vectorizer.get_feature_names()\n",
    "    ).sort_values(ascending=False)"
   ]
  },
  {
   "source": [
    "# Comprendre les vecteurs et leurs \"distances\""
   ],
   "cell_type": "markdown",
   "metadata": {}
  },
  {
   "cell_type": "code",
   "execution_count": 18,
   "metadata": {},
   "outputs": [],
   "source": [
    "from scipy.spatial.distance import cosine"
   ]
  },
  {
   "cell_type": "code",
   "execution_count": 19,
   "metadata": {},
   "outputs": [
    {
     "output_type": "execute_result",
     "data": {
      "text/plain": [
       "0.0"
      ]
     },
     "metadata": {},
     "execution_count": 19
    }
   ],
   "source": [
    "cosine([1, 2, 3], [1, 2, 3])"
   ]
  },
  {
   "cell_type": "code",
   "execution_count": 20,
   "metadata": {},
   "outputs": [
    {
     "output_type": "execute_result",
     "data": {
      "text/plain": [
       "0.02004211298777725"
      ]
     },
     "metadata": {},
     "execution_count": 20
    }
   ],
   "source": [
    "cosine([1, 2, 3], [1, 2, 2])"
   ]
  },
  {
   "cell_type": "code",
   "execution_count": 21,
   "metadata": {},
   "outputs": [
    {
     "output_type": "execute_result",
     "data": {
      "text/plain": [
       "0.07417990022744858"
      ]
     },
     "metadata": {},
     "execution_count": 21
    }
   ],
   "source": [
    "cosine([1, 2, 3], [2, 2, 2])"
   ]
  },
  {
   "cell_type": "code",
   "execution_count": 22,
   "metadata": {},
   "outputs": [],
   "source": [
    "tfidf_array = tfidf_vectors.toarray()"
   ]
  },
  {
   "cell_type": "code",
   "execution_count": 23,
   "metadata": {},
   "outputs": [
    {
     "output_type": "execute_result",
     "data": {
      "text/plain": [
       "array([0.        , 0.        , 0.02430379, ..., 0.        , 0.01537096,\n",
       "       0.00911774])"
      ]
     },
     "metadata": {},
     "execution_count": 23
    }
   ],
   "source": [
    "tfidf_array[0]"
   ]
  },
  {
   "cell_type": "code",
   "execution_count": 24,
   "metadata": {},
   "outputs": [
    {
     "output_type": "execute_result",
     "data": {
      "text/plain": [
       "'PUBLICATION\\n\\nPERIODIQUE\\n\\nVILLE DE BRUXELLES\\n\\nAnnée 1960\\n\\nBULLETIN COMMUNAL\\nTOME II \"\\n_u\\n\\nImpr. H . 6 M . S C H A U M A N S\\nSociété Anonyme\\n\\nParvis Saint-Gilles, 41 Bruxelles 1960\\n\\n\\x0c\\x0cN\" 14\\n\\nCOMPTE\\n\\nR E'"
      ]
     },
     "metadata": {},
     "execution_count": 24
    }
   ],
   "source": [
    "texts[0][:200]"
   ]
  },
  {
   "cell_type": "code",
   "execution_count": 25,
   "metadata": {},
   "outputs": [
    {
     "output_type": "execute_result",
     "data": {
      "text/plain": [
       "array([0.        , 0.        , 0.02430379, ..., 0.        , 0.01537096,\n",
       "       0.00911774])"
      ]
     },
     "metadata": {},
     "execution_count": 25
    }
   ],
   "source": [
    "tfidf_array[0]"
   ]
  },
  {
   "cell_type": "code",
   "execution_count": 26,
   "metadata": {},
   "outputs": [
    {
     "output_type": "execute_result",
     "data": {
      "text/plain": [
       "0.5890213388262817"
      ]
     },
     "metadata": {},
     "execution_count": 26
    }
   ],
   "source": [
    "cosine(tfidf_array[0], tfidf_array[1])"
   ]
  },
  {
   "source": [
    "# Clustering des vecteurs TFIDF"
   ],
   "cell_type": "markdown",
   "metadata": {}
  },
  {
   "source": [
    "Article intéressant sur le KMeans clustering :\n",
    "- https://medium.com/dataseries/k-means-clustering-explained-visually-in-5-minutes-b900cc69d175"
   ],
   "cell_type": "markdown",
   "metadata": {}
  },
  {
   "cell_type": "code",
   "execution_count": 27,
   "metadata": {},
   "outputs": [],
   "source": [
    "km_model = KMeans(n_clusters=N_CLUSTERS)"
   ]
  },
  {
   "cell_type": "code",
   "execution_count": 28,
   "metadata": {},
   "outputs": [
    {
     "output_type": "execute_result",
     "data": {
      "text/plain": [
       "KMeans(n_clusters=5)"
      ]
     },
     "metadata": {},
     "execution_count": 28
    }
   ],
   "source": [
    "km_model.fit(tfidf_vectors)"
   ]
  },
  {
   "cell_type": "code",
   "execution_count": 29,
   "metadata": {},
   "outputs": [],
   "source": [
    "clustering = collections.defaultdict(list)\n",
    "\n",
    "for idx, label in enumerate(km_model.labels_):\n",
    "    clustering[label].append(files[idx])"
   ]
  },
  {
   "cell_type": "code",
   "execution_count": 30,
   "metadata": {},
   "outputs": [
    {
     "output_type": "stream",
     "name": "stdout",
     "text": [
      "{0: ['Bxl_1963_Tome_II1_Part_8.txt',\n     'Bxl_1963_Tome_II1_Part_9.txt',\n     'Bxl_1963_Tome_II2_Part_2.txt',\n     'Bxl_1963_Tome_II2_Part_3.txt',\n     'Bxl_1963_Tome_II2_Part_4.txt',\n     'Bxl_1963_Tome_II2_Part_5.txt',\n     'Bxl_1964_Tome_II1_Part_4.txt',\n     'Bxl_1964_Tome_II1_Part_8.txt',\n     'Bxl_1964_Tome_II1_Part_9.txt',\n     'Bxl_1964_Tome_II2_Part_1.txt',\n     'Bxl_1964_Tome_II2_Part_2.txt',\n     'Bxl_1964_Tome_II2_Part_3.txt',\n     'Bxl_1964_Tome_II2_Part_7.txt',\n     'Bxl_1964_Tome_II2_Part_9.txt',\n     'Bxl_1965_Tome_II1_Part_2.txt',\n     'Bxl_1965_Tome_II1_Part_3.txt',\n     'Bxl_1965_Tome_II1_Part_5.txt',\n     'Bxl_1965_Tome_II2_Part_1.txt',\n     'Bxl_1965_Tome_II2_Part_2.txt',\n     'Bxl_1965_Tome_II2_Part_3.txt',\n     'Bxl_1965_Tome_II2_Part_5.txt',\n     'Bxl_1965_Tome_II2_Part_6.txt',\n     'Bxl_1965_Tome_II2_Part_7.txt',\n     'Bxl_1965_Tome_II2_Part_8.txt',\n     'Bxl_1965_Tome_I_Part_10.txt',\n     'Bxl_1965_Tome_I_Part_11.txt',\n     'Bxl_1965_Tome_I_Part_7.txt',\n     'Bxl_1965_Tome_I_Part_8.txt',\n     'Bxl_1965_Tome_I_Part_9.txt',\n     'Bxl_1965_Tome_RptAn_Part_4.txt',\n     'Bxl_1965_Tome_RptAn_Part_5.txt',\n     'Bxl_1965_Tome_RptAn_Part_6.txt',\n     'Bxl_1965_Tome_RptAn_Part_7.txt',\n     'Bxl_1966_Tome_I1_Part_2.txt',\n     'Bxl_1966_Tome_I1_Part_3.txt',\n     'Bxl_1966_Tome_I1_Part_8.txt',\n     'Bxl_1966_Tome_I2_Part_1.txt',\n     'Bxl_1966_Tome_I2_Part_2.txt',\n     'Bxl_1966_Tome_I2_Part_3.txt',\n     'Bxl_1966_Tome_I2_Part_5.txt',\n     'Bxl_1966_Tome_II1_Part_1.txt',\n     'Bxl_1966_Tome_II1_Part_2.txt',\n     'Bxl_1966_Tome_II1_Part_8.txt',\n     'Bxl_1966_Tome_II1_Part_9.txt',\n     'Bxl_1966_Tome_II2_Part_1.txt',\n     'Bxl_1966_Tome_II2_Part_3.txt',\n     'Bxl_1966_Tome_II2_Part_5.txt',\n     'Bxl_1966_Tome_RptAn_Part_4.txt',\n     'Bxl_1966_Tome_RptAn_Part_5.txt',\n     'Bxl_1966_Tome_RptAn_Part_6.txt',\n     'Bxl_1967_Tome_I1_Part_1.txt',\n     'Bxl_1967_Tome_I1_Part_2.txt',\n     'Bxl_1967_Tome_I1_Part_3.txt',\n     'Bxl_1967_Tome_I1_Part_7.txt',\n     'Bxl_1967_Tome_II1_Part_2.txt',\n     'Bxl_1967_Tome_II1_Part_3.txt',\n     'Bxl_1967_Tome_II1_Part_6.txt',\n     'Bxl_1967_Tome_II1_Part_7.txt',\n     'Bxl_1967_Tome_II1_Part_8.txt',\n     'Bxl_1967_Tome_II2_Part_1.txt',\n     'Bxl_1967_Tome_II2_Part_2.txt',\n     'Bxl_1967_Tome_II2_Part_5.txt',\n     'Bxl_1967_Tome_II2_Part_6.txt',\n     'Bxl_1968_Tome_I1_Part_4.txt',\n     'Bxl_1968_Tome_I1_Part_5.txt',\n     'Bxl_1968_Tome_I1_Part_6.txt',\n     'Bxl_1968_Tome_I1_Part_7.txt',\n     'Bxl_1968_Tome_II1_Part_1.txt',\n     'Bxl_1968_Tome_II2_Part_10.txt',\n     'Bxl_1968_Tome_II2_Part_11.txt',\n     'Bxl_1968_Tome_II2_Part_12.txt',\n     'Bxl_1968_Tome_II2_Part_8.txt',\n     'Bxl_1968_Tome_II2_Part_9.txt',\n     'Bxl_1969_Tome_I1_Part_5.txt',\n     'Bxl_1969_Tome_II2_Part_2.txt',\n     'Bxl_1969_Tome_II2_Part_3.txt',\n     'Bxl_1969_Tome_II2_Part_5.txt',\n     'Bxl_1969_Tome_RptAn_Part_4.txt',\n     'Bxl_1969_Tome_RptAn_Part_5.txt',\n     'Bxl_1969_Tome_RptAn_Part_6.txt',\n     'Bxl_1969_Tome_RptAn_Part_7.txt'],\n 1: ['Bxl_1963_Tome_II2_Part_8.txt',\n     'Bxl_1963_Tome_II2_Part_9.txt',\n     'Bxl_1964_Tome_II1_Part_6.txt',\n     'Bxl_1964_Tome_II2_Part_6.txt',\n     'Bxl_1965_Tome_II1_Part_1.txt',\n     'Bxl_1965_Tome_II1_Part_4.txt',\n     'Bxl_1965_Tome_II1_Part_7.txt',\n     'Bxl_1965_Tome_II1_Part_9.txt',\n     'Bxl_1965_Tome_II2_Part_10.txt',\n     'Bxl_1965_Tome_II2_Part_11.txt',\n     'Bxl_1965_Tome_II2_Part_12.txt',\n     'Bxl_1965_Tome_II2_Part_9.txt',\n     'Bxl_1965_Tome_I_Part_1.txt',\n     'Bxl_1965_Tome_I_Part_12.txt',\n     'Bxl_1965_Tome_I_Part_2.txt',\n     'Bxl_1965_Tome_I_Part_3.txt',\n     'Bxl_1965_Tome_I_Part_4.txt',\n     'Bxl_1965_Tome_I_Part_6.txt',\n     'Bxl_1966_Tome_I1_Part_1.txt',\n     'Bxl_1966_Tome_I1_Part_10.txt',\n     'Bxl_1966_Tome_I1_Part_4.txt',\n     'Bxl_1966_Tome_I1_Part_5.txt',\n     'Bxl_1966_Tome_I1_Part_6.txt',\n     'Bxl_1966_Tome_I1_Part_7.txt',\n     'Bxl_1966_Tome_I1_Part_9.txt',\n     'Bxl_1966_Tome_I2_Part_4.txt',\n     'Bxl_1966_Tome_I2_Part_6.txt',\n     'Bxl_1966_Tome_I2_Part_7.txt',\n     'Bxl_1966_Tome_I2_Part_8.txt',\n     'Bxl_1966_Tome_I2_Part_9.txt',\n     'Bxl_1966_Tome_II1_Part_10.txt',\n     'Bxl_1966_Tome_II1_Part_11.txt',\n     'Bxl_1966_Tome_II1_Part_3.txt',\n     'Bxl_1966_Tome_II1_Part_4.txt',\n     'Bxl_1966_Tome_II1_Part_5.txt',\n     'Bxl_1966_Tome_II1_Part_6.txt',\n     'Bxl_1966_Tome_II1_Part_7.txt',\n     'Bxl_1966_Tome_II2_Part_11.txt',\n     'Bxl_1966_Tome_II2_Part_12.txt',\n     'Bxl_1966_Tome_II2_Part_2.txt',\n     'Bxl_1966_Tome_II2_Part_4.txt',\n     'Bxl_1966_Tome_II2_Part_6.txt',\n     'Bxl_1966_Tome_II2_Part_7.txt',\n     'Bxl_1966_Tome_II2_Part_8.txt',\n     'Bxl_1966_Tome_II2_Part_9.txt',\n     'Bxl_1967_Tome_I1_Part_10.txt',\n     'Bxl_1967_Tome_I1_Part_4.txt',\n     'Bxl_1967_Tome_I1_Part_5.txt',\n     'Bxl_1967_Tome_I1_Part_6.txt',\n     'Bxl_1967_Tome_I1_Part_8.txt',\n     'Bxl_1967_Tome_I1_Part_9.txt',\n     'Bxl_1967_Tome_I2_Part_1.txt',\n     'Bxl_1967_Tome_I2_Part_2.txt',\n     'Bxl_1967_Tome_I2_Part_3.txt',\n     'Bxl_1967_Tome_I2_Part_4.txt',\n     'Bxl_1967_Tome_I2_Part_5.txt',\n     'Bxl_1967_Tome_I2_Part_6.txt',\n     'Bxl_1967_Tome_I2_Part_7.txt',\n     'Bxl_1967_Tome_I2_Part_8.txt',\n     'Bxl_1967_Tome_I2_Part_9.txt',\n     'Bxl_1967_Tome_II1_Part_1.txt',\n     'Bxl_1967_Tome_II1_Part_10.txt',\n     'Bxl_1967_Tome_II1_Part_5.txt',\n     'Bxl_1967_Tome_II1_Part_9.txt',\n     'Bxl_1967_Tome_II2_Part_10.txt',\n     'Bxl_1967_Tome_II2_Part_3.txt',\n     'Bxl_1967_Tome_II2_Part_4.txt',\n     'Bxl_1967_Tome_II2_Part_7.txt',\n     'Bxl_1967_Tome_II2_Part_8.txt',\n     'Bxl_1967_Tome_II2_Part_9.txt',\n     'Bxl_1968_Tome_I1_Part_1.txt',\n     'Bxl_1968_Tome_I1_Part_2.txt',\n     'Bxl_1968_Tome_I1_Part_3.txt',\n     'Bxl_1968_Tome_I1_Part_8.txt',\n     'Bxl_1968_Tome_I1_Part_9.txt',\n     'Bxl_1968_Tome_I2_Part_1.txt',\n     'Bxl_1968_Tome_I2_Part_2.txt',\n     'Bxl_1968_Tome_I2_Part_3.txt',\n     'Bxl_1968_Tome_I2_Part_4.txt',\n     'Bxl_1968_Tome_I2_Part_5.txt',\n     'Bxl_1968_Tome_I2_Part_6.txt',\n     'Bxl_1968_Tome_I2_Part_7.txt',\n     'Bxl_1968_Tome_II1_Part_2.txt',\n     'Bxl_1968_Tome_II1_Part_3.txt',\n     'Bxl_1968_Tome_II1_Part_4.txt',\n     'Bxl_1968_Tome_II1_Part_5.txt',\n     'Bxl_1968_Tome_II1_Part_6.txt',\n     'Bxl_1968_Tome_II1_Part_7.txt',\n     'Bxl_1968_Tome_II2_Part_1.txt',\n     'Bxl_1968_Tome_II2_Part_13.txt',\n     'Bxl_1968_Tome_II2_Part_2.txt',\n     'Bxl_1968_Tome_II2_Part_3.txt',\n     'Bxl_1968_Tome_II2_Part_4.txt',\n     'Bxl_1968_Tome_II2_Part_5.txt',\n     'Bxl_1968_Tome_II2_Part_6.txt',\n     'Bxl_1968_Tome_II2_Part_7.txt',\n     'Bxl_1969_Tome_I1_Part_1.txt',\n     'Bxl_1969_Tome_I1_Part_2.txt',\n     'Bxl_1969_Tome_I1_Part_3.txt',\n     'Bxl_1969_Tome_I1_Part_4.txt',\n     'Bxl_1969_Tome_I1_Part_6.txt',\n     'Bxl_1969_Tome_I1_Part_7.txt',\n     'Bxl_1969_Tome_I1_Part_8.txt',\n     'Bxl_1969_Tome_I2_Part_1.txt',\n     'Bxl_1969_Tome_I2_Part_2.txt',\n     'Bxl_1969_Tome_I2_Part_3.txt',\n     'Bxl_1969_Tome_I2_Part_4.txt',\n     'Bxl_1969_Tome_I2_Part_5.txt',\n     'Bxl_1969_Tome_I2_Part_6.txt',\n     'Bxl_1969_Tome_I2_Part_7.txt',\n     'Bxl_1969_Tome_I2_Part_8.txt',\n     'Bxl_1969_Tome_II1_Part_1.txt',\n     'Bxl_1969_Tome_II1_Part_2.txt',\n     'Bxl_1969_Tome_II1_Part_3.txt',\n     'Bxl_1969_Tome_II1_Part_4.txt',\n     'Bxl_1969_Tome_II1_Part_5.txt',\n     'Bxl_1969_Tome_II1_Part_6.txt',\n     'Bxl_1969_Tome_II1_Part_7.txt',\n     'Bxl_1969_Tome_II1_Part_8.txt',\n     'Bxl_1969_Tome_II2_Part_1.txt',\n     'Bxl_1969_Tome_II2_Part_10.txt',\n     'Bxl_1969_Tome_II2_Part_11.txt',\n     'Bxl_1969_Tome_II2_Part_4.txt',\n     'Bxl_1969_Tome_II2_Part_6.txt',\n     'Bxl_1969_Tome_II2_Part_7.txt',\n     'Bxl_1969_Tome_II2_Part_8.txt',\n     'Bxl_1969_Tome_II2_Part_9.txt'],\n 2: ['Bxl_1960_Tome_II1_Part_1.txt',\n     'Bxl_1960_Tome_II1_Part_2.txt',\n     'Bxl_1960_Tome_II1_Part_3.txt',\n     'Bxl_1960_Tome_II1_Part_4.txt',\n     'Bxl_1960_Tome_II1_Part_5.txt',\n     'Bxl_1960_Tome_II1_Part_6.txt',\n     'Bxl_1960_Tome_II1_Part_7.txt',\n     'Bxl_1960_Tome_II1_Part_8.txt',\n     'Bxl_1960_Tome_II2_Part_3.txt',\n     'Bxl_1960_Tome_II2_Part_4.txt',\n     'Bxl_1960_Tome_II2_Part_5.txt',\n     'Bxl_1960_Tome_II2_Part_6.txt',\n     'Bxl_1960_Tome_II2_Part_7.txt',\n     'Bxl_1960_Tome_I_Part_1.txt',\n     'Bxl_1960_Tome_I_Part_10.txt',\n     'Bxl_1960_Tome_I_Part_11.txt',\n     'Bxl_1960_Tome_I_Part_12.txt',\n     'Bxl_1960_Tome_I_Part_2.txt',\n     'Bxl_1960_Tome_I_Part_3.txt',\n     'Bxl_1960_Tome_I_Part_4.txt',\n     'Bxl_1960_Tome_I_Part_5.txt',\n     'Bxl_1960_Tome_I_Part_6.txt',\n     'Bxl_1960_Tome_I_Part_7.txt',\n     'Bxl_1960_Tome_I_Part_8.txt',\n     'Bxl_1960_Tome_I_Part_9.txt',\n     'Bxl_1961_Tome_II1_Part_1.txt',\n     'Bxl_1961_Tome_II1_Part_2.txt',\n     'Bxl_1961_Tome_II1_Part_3.txt',\n     'Bxl_1961_Tome_II1_Part_4.txt',\n     'Bxl_1961_Tome_II1_Part_5.txt',\n     'Bxl_1961_Tome_II1_Part_6.txt',\n     'Bxl_1961_Tome_II1_Part_7.txt',\n     'Bxl_1961_Tome_II1_Part_8.txt',\n     'Bxl_1961_Tome_II2_Part_1.txt',\n     'Bxl_1961_Tome_II2_Part_5.txt',\n     'Bxl_1961_Tome_II2_Part_6.txt',\n     'Bxl_1961_Tome_I_Part_1.txt',\n     'Bxl_1961_Tome_I_Part_10.txt',\n     'Bxl_1961_Tome_I_Part_2.txt',\n     'Bxl_1961_Tome_I_Part_3.txt',\n     'Bxl_1961_Tome_I_Part_4.txt',\n     'Bxl_1961_Tome_I_Part_5.txt',\n     'Bxl_1961_Tome_I_Part_6.txt',\n     'Bxl_1961_Tome_I_Part_7.txt',\n     'Bxl_1961_Tome_I_Part_8.txt',\n     'Bxl_1961_Tome_I_Part_9.txt',\n     'Bxl_1962_Tome_II1_Part_1.txt',\n     'Bxl_1962_Tome_II1_Part_2.txt',\n     'Bxl_1962_Tome_II1_Part_3.txt',\n     'Bxl_1962_Tome_II1_Part_4.txt',\n     'Bxl_1962_Tome_II1_Part_5.txt',\n     'Bxl_1962_Tome_II1_Part_6.txt',\n     'Bxl_1962_Tome_II1_Part_7.txt',\n     'Bxl_1962_Tome_II1_Part_8.txt',\n     'Bxl_1962_Tome_II1_Part_9.txt',\n     'Bxl_1962_Tome_II2_Part_1.txt',\n     'Bxl_1962_Tome_II2_Part_5.txt',\n     'Bxl_1962_Tome_II2_Part_6.txt',\n     'Bxl_1962_Tome_II2_Part_7.txt',\n     'Bxl_1962_Tome_I_Part_1.txt',\n     'Bxl_1962_Tome_I_Part_10.txt',\n     'Bxl_1962_Tome_I_Part_11.txt',\n     'Bxl_1962_Tome_I_Part_2.txt',\n     'Bxl_1962_Tome_I_Part_3.txt',\n     'Bxl_1962_Tome_I_Part_4.txt',\n     'Bxl_1962_Tome_I_Part_5.txt',\n     'Bxl_1962_Tome_I_Part_6.txt',\n     'Bxl_1962_Tome_I_Part_7.txt',\n     'Bxl_1962_Tome_I_Part_8.txt',\n     'Bxl_1962_Tome_I_Part_9.txt',\n     'Bxl_1963_Tome_II1_Part_1.txt',\n     'Bxl_1963_Tome_II1_Part_2.txt',\n     'Bxl_1963_Tome_II1_Part_3.txt',\n     'Bxl_1963_Tome_II1_Part_4.txt',\n     'Bxl_1963_Tome_II1_Part_5.txt',\n     'Bxl_1963_Tome_II1_Part_6.txt',\n     'Bxl_1963_Tome_II1_Part_7.txt',\n     'Bxl_1963_Tome_II2_Part_1.txt',\n     'Bxl_1963_Tome_II2_Part_10.txt',\n     'Bxl_1963_Tome_I_Part_1.txt',\n     'Bxl_1963_Tome_I_Part_10.txt',\n     'Bxl_1963_Tome_I_Part_11.txt',\n     'Bxl_1963_Tome_I_Part_2.txt',\n     'Bxl_1963_Tome_I_Part_3.txt',\n     'Bxl_1963_Tome_I_Part_4.txt',\n     'Bxl_1963_Tome_I_Part_5.txt',\n     'Bxl_1963_Tome_I_Part_6.txt',\n     'Bxl_1963_Tome_I_Part_7.txt',\n     'Bxl_1963_Tome_I_Part_8.txt',\n     'Bxl_1963_Tome_I_Part_9.txt',\n     'Bxl_1964_Tome_II1_Part_1.txt',\n     'Bxl_1964_Tome_II1_Part_10.txt',\n     'Bxl_1964_Tome_II1_Part_11.txt',\n     'Bxl_1964_Tome_II1_Part_2.txt',\n     'Bxl_1964_Tome_II1_Part_3.txt',\n     'Bxl_1964_Tome_II1_Part_5.txt',\n     'Bxl_1964_Tome_II1_Part_7.txt',\n     'Bxl_1964_Tome_I_Part_1.txt',\n     'Bxl_1964_Tome_I_Part_10.txt',\n     'Bxl_1964_Tome_I_Part_11.txt',\n     'Bxl_1964_Tome_I_Part_12.txt',\n     'Bxl_1964_Tome_I_Part_13.txt',\n     'Bxl_1964_Tome_I_Part_2.txt',\n     'Bxl_1964_Tome_I_Part_3.txt',\n     'Bxl_1964_Tome_I_Part_4.txt',\n     'Bxl_1964_Tome_I_Part_5.txt',\n     'Bxl_1964_Tome_I_Part_6.txt',\n     'Bxl_1964_Tome_I_Part_7.txt',\n     'Bxl_1964_Tome_I_Part_8.txt',\n     'Bxl_1964_Tome_I_Part_9.txt',\n     'Bxl_1965_Tome_II1_Part_6.txt',\n     'Bxl_1965_Tome_II1_Part_8.txt',\n     'Bxl_1965_Tome_II2_Part_4.txt',\n     'Bxl_1965_Tome_I_Part_5.txt',\n     'Bxl_1967_Tome_II1_Part_4.txt'],\n 3: ['Bxl_1960_Tome_II2_Part_8.txt',\n     'Bxl_1960_Tome_II2_Part_9.txt',\n     'Bxl_1960_Tome_I_Part_13.txt',\n     'Bxl_1961_Tome_II2_Part_7.txt',\n     'Bxl_1961_Tome_II2_Part_8.txt',\n     'Bxl_1961_Tome_I_Part_11.txt',\n     'Bxl_1961_Tome_I_Part_12.txt',\n     'Bxl_1962_Tome_II2_Part_8.txt',\n     'Bxl_1962_Tome_II2_Part_9.txt',\n     'Bxl_1962_Tome_I_Part_12.txt',\n     'Bxl_1962_Tome_I_Part_13.txt',\n     'Bxl_1963_Tome_II2_Part_11.txt',\n     'Bxl_1963_Tome_II2_Part_12.txt',\n     'Bxl_1963_Tome_I_Part_12.txt',\n     'Bxl_1963_Tome_I_Part_13.txt',\n     'Bxl_1964_Tome_II2_Part_10.txt',\n     'Bxl_1964_Tome_II2_Part_11.txt',\n     'Bxl_1964_Tome_I_Part_14.txt',\n     'Bxl_1965_Tome_II2_Part_13.txt',\n     'Bxl_1965_Tome_II2_Part_14.txt',\n     'Bxl_1965_Tome_I_Part_13.txt',\n     'Bxl_1965_Tome_I_Part_14.txt',\n     'Bxl_1966_Tome_I2_Part_10.txt',\n     'Bxl_1966_Tome_I2_Part_11.txt',\n     'Bxl_1966_Tome_II2_Part_13.txt',\n     'Bxl_1966_Tome_II2_Part_14.txt',\n     'Bxl_1967_Tome_I2_Part_10.txt',\n     'Bxl_1968_Tome_I2_Part_8.txt',\n     'Bxl_1968_Tome_I2_Part_9.txt',\n     'Bxl_1968_Tome_II1_Part_8.txt',\n     'Bxl_1968_Tome_II1_Part_9.txt',\n     'Bxl_1969_Tome_I2_Part_10.txt',\n     'Bxl_1969_Tome_I2_Part_9.txt',\n     'Bxl_1969_Tome_II2_Part_12.txt',\n     'Bxl_1969_Tome_II2_Part_13.txt'],\n 4: ['Bxl_1960_Tome_II2_Part_1.txt',\n     'Bxl_1960_Tome_II2_Part_2.txt',\n     'Bxl_1960_Tome_RptAn_Part_1.txt',\n     'Bxl_1960_Tome_RptAn_Part_2.txt',\n     'Bxl_1960_Tome_RptAn_Part_3.txt',\n     'Bxl_1960_Tome_RptAn_Part_4.txt',\n     'Bxl_1960_Tome_RptAn_Part_5.txt',\n     'Bxl_1960_Tome_RptAn_Part_6.txt',\n     'Bxl_1960_Tome_RptAn_Part_7.txt',\n     'Bxl_1960_Tome_RptAn_Part_8.txt',\n     'Bxl_1960_Tome_RptAn_Part_9.txt',\n     'Bxl_1961_Tome_II2_Part_2.txt',\n     'Bxl_1961_Tome_II2_Part_3.txt',\n     'Bxl_1961_Tome_II2_Part_4.txt',\n     'Bxl_1961_Tome_RptAn_Part_1.txt',\n     'Bxl_1961_Tome_RptAn_Part_4.txt',\n     'Bxl_1961_Tome_RptAn_Part_6.txt',\n     'Bxl_1961_Tome_RptAn_Part_7.txt',\n     'Bxl_1961_Tome_RptAn_Part_8.txt',\n     'Bxl_1962_Tome_II2_Part_2.txt',\n     'Bxl_1962_Tome_II2_Part_3.txt',\n     'Bxl_1962_Tome_II2_Part_4.txt',\n     'Bxl_1962_Tome_RptAn_Part_1.txt',\n     'Bxl_1962_Tome_RptAn_Part_2.txt',\n     'Bxl_1962_Tome_RptAn_Part_3.txt',\n     'Bxl_1962_Tome_RptAn_Part_4.txt',\n     'Bxl_1962_Tome_RptAn_Part_5.txt',\n     'Bxl_1962_Tome_RptAn_Part_6.txt',\n     'Bxl_1962_Tome_RptAn_Part_7.txt',\n     'Bxl_1962_Tome_RptAn_Part_8.txt',\n     'Bxl_1963_Tome_II2_Part_6.txt',\n     'Bxl_1963_Tome_II2_Part_7.txt',\n     'Bxl_1963_Tome_RptAn_Part_1.txt',\n     'Bxl_1963_Tome_RptAn_Part_2.txt',\n     'Bxl_1963_Tome_RptAn_Part_3.txt',\n     'Bxl_1963_Tome_RptAn_Part_4.txt',\n     'Bxl_1963_Tome_RptAn_Part_5.txt',\n     'Bxl_1963_Tome_RptAn_Part_6.txt',\n     'Bxl_1963_Tome_RptAn_Part_7.txt',\n     'Bxl_1963_Tome_RptAn_Part_8.txt',\n     'Bxl_1964_Tome_II2_Part_4.txt',\n     'Bxl_1964_Tome_II2_Part_5.txt',\n     'Bxl_1964_Tome_II2_Part_8.txt',\n     'Bxl_1964_Tome_RptAn_Part_1.txt',\n     'Bxl_1964_Tome_RptAn_Part_2.txt',\n     'Bxl_1964_Tome_RptAn_Part_3.txt',\n     'Bxl_1964_Tome_RptAn_Part_4.txt',\n     'Bxl_1964_Tome_RptAn_Part_5.txt',\n     'Bxl_1964_Tome_RptAn_Part_6.txt',\n     'Bxl_1965_Tome_RptAn_Part_1.txt',\n     'Bxl_1965_Tome_RptAn_Part_2.txt',\n     'Bxl_1965_Tome_RptAn_Part_3.txt',\n     'Bxl_1966_Tome_II2_Part_10.txt',\n     'Bxl_1966_Tome_RptAn_Part_1.txt',\n     'Bxl_1966_Tome_RptAn_Part_2.txt',\n     'Bxl_1966_Tome_RptAn_Part_3.txt',\n     'Bxl_1967_Tome_I1_Part_11.txt',\n     'Bxl_1967_Tome_II2_Part_11.txt',\n     'Bxl_1969_Tome_II2_Part_14.txt',\n     'Bxl_1969_Tome_RptAn_Part_1.txt',\n     'Bxl_1969_Tome_RptAn_Part_2.txt',\n     'Bxl_1969_Tome_RptAn_Part_3.txt']}\n"
     ]
    }
   ],
   "source": [
    "pprint(dict(clustering))"
   ]
  },
  {
   "source": [
    "# Analyse des mots-clés de chaque cluster"
   ],
   "cell_type": "markdown",
   "metadata": {}
  },
  {
   "cell_type": "code",
   "execution_count": null,
   "metadata": {},
   "outputs": [],
   "source": []
  }
 ]
}