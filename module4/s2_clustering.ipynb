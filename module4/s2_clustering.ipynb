{
 "metadata": {
  "language_info": {
   "codemirror_mode": {
    "name": "ipython",
    "version": 3
   },
   "file_extension": ".py",
   "mimetype": "text/x-python",
   "name": "python",
   "nbconvert_exporter": "python",
   "pygments_lexer": "ipython3",
   "version": "3.9.0-final"
  },
  "orig_nbformat": 2,
  "kernelspec": {
   "name": "python3",
   "display_name": "Python 3.9.0 64-bit",
   "metadata": {
    "interpreter": {
     "hash": "aee8b7b246df8f9039afb4144a1f6fd8d2ca17a180786b69acc140d282b71a49"
    }
   }
  }
 },
 "nbformat": 4,
 "nbformat_minor": 2,
 "cells": [
  {
   "cell_type": "code",
   "execution_count": 1,
   "metadata": {},
   "outputs": [],
   "source": [
    "import collections\n",
    "import os\n",
    "import yake\n",
    "import string\n",
    "import sys\n",
    "from os.path import isfile, join\n",
    "\n",
    "import pandas as pd\n",
    "from pathlib import Path\n",
    "from nltk import word_tokenize\n",
    "from nltk.corpus import stopwords\n",
    "from pprint import pprint\n",
    "from sklearn.cluster import KMeans\n",
    "from sklearn.feature_extraction.text import TfidfVectorizer"
   ]
  },
  {
   "cell_type": "code",
   "execution_count": 2,
   "metadata": {},
   "outputs": [
    {
     "output_type": "stream",
     "name": "stderr",
     "text": [
      "[nltk_data] Downloading package punkt to\n[nltk_data]     /Users/charalambos/nltk_data...\n[nltk_data]   Package punkt is already up-to-date!\n"
     ]
    },
    {
     "output_type": "execute_result",
     "data": {
      "text/plain": [
       "True"
      ]
     },
     "metadata": {},
     "execution_count": 2
    }
   ],
   "source": [
    "import nltk\n",
    "\n",
    "nltk.download('punkt')"
   ]
  },
  {
   "cell_type": "code",
   "execution_count": 3,
   "metadata": {},
   "outputs": [],
   "source": [
    "data_path = \"../data/txt/\""
   ]
  },
  {
   "source": [
    "# Choix d'une décennie et du nombre de clusters"
   ],
   "cell_type": "markdown",
   "metadata": {}
  },
  {
   "cell_type": "code",
   "execution_count": 4,
   "metadata": {},
   "outputs": [],
   "source": [
    "DECADE = '1960'\n",
    "N_CLUSTERS = 10"
   ]
  },
  {
   "source": [
    "# Chargement des fichiers de la décennie"
   ],
   "cell_type": "markdown",
   "metadata": {}
  },
  {
   "cell_type": "code",
   "execution_count": 5,
   "metadata": {},
   "outputs": [],
   "source": [
    "files = [f for f in sorted(os.listdir(data_path)) if f\"_{DECADE[:-1]}\" in f]"
   ]
  },
  {
   "cell_type": "code",
   "execution_count": 6,
   "metadata": {},
   "outputs": [
    {
     "output_type": "execute_result",
     "data": {
      "text/plain": [
       "['Bxl_1960_Tome_II1_Part_1.txt',\n",
       " 'Bxl_1960_Tome_II1_Part_2.txt',\n",
       " 'Bxl_1960_Tome_II1_Part_3.txt',\n",
       " 'Bxl_1960_Tome_II1_Part_4.txt',\n",
       " 'Bxl_1960_Tome_II1_Part_5.txt']"
      ]
     },
     "metadata": {},
     "execution_count": 6
    }
   ],
   "source": [
    "# Exemple de fichiers\n",
    "files[:5]"
   ]
  },
  {
   "cell_type": "code",
   "execution_count": 7,
   "metadata": {},
   "outputs": [],
   "source": [
    "texts = [open(data_path + f).read() for f in files]"
   ]
  },
  {
   "cell_type": "code",
   "execution_count": 8,
   "metadata": {},
   "outputs": [
    {
     "output_type": "execute_result",
     "data": {
      "text/plain": [
       "'PUBLICATION\\n\\nPERIODIQUE\\n\\nVILLE DE BRUXELLES\\n\\nAnnée 1960\\n\\nBULLETIN COMMUNAL\\nTOME II \"\\n_u\\n\\nImpr. H . 6 M . S C H A U M A N S\\nSociété Anonyme\\n\\nParvis Saint-Gilles, 41 Bruxelles 1960\\n\\n\\x0c\\x0cN\" 14\\n\\nCOMPTE\\n\\nR E N D U D E L A S E A N C E D U 1\"\\' A O U T\\n\\n1960\\n\\nVILLE\\n\\nDE\\n\\nBRUXELLES\\n\\nBULLETIN\\n(Publication\\n\\nCOMMUNAL\\npériodique)\\n\\nA n n é e 1960\\n\\nCONSEIL\\n\\nCOMMUNAL\\n\\nS é a n c e du\\n\\n1\\n\\ner\\n\\naoût\\n\\n1960.\\n\\nPRESIDENCE\\n\\nDE M .\\n\\nCOOREMANS,\\n\\nBourgmestre.\\n\\nSOMMAIRE : Pages 1. Evénements tragiques du Congo. — Vote d\\'un crédit extraordinaire en faveur des rapatriéa du Congo . . . . . . Sports. — Avant-projet de construction d\\'un bâtiment vestiaire et d\\'une installation d\\'éclairage électrique, au Stade Annexe II du Heysel . Approbation. Académie royale des Beaux-Arts. — Construction d\\'un escalier en béton. — Approbation des devis et projets, ainsi que du montant de la dépense . . . . . Approbation. Ecole Industrielle'"
      ]
     },
     "metadata": {},
     "execution_count": 8
    }
   ],
   "source": [
    "# Exemple de textes\n",
    "texts[0][:900]"
   ]
  },
  {
   "source": [
    "# Vectorisation du texte"
   ],
   "cell_type": "markdown",
   "metadata": {}
  },
  {
   "cell_type": "code",
   "execution_count": 9,
   "metadata": {},
   "outputs": [],
   "source": [
    "def process_text(text, stem=True):\n",
    "    \"\"\" Tokenize text and remove punctuation \"\"\"\n",
    "    text = text.translate(string.punctuation)\n",
    "    tokens = word_tokenize(text)\n",
    "    return tokens"
   ]
  },
  {
   "cell_type": "code",
   "execution_count": 10,
   "metadata": {},
   "outputs": [],
   "source": [
    "vectorizer = TfidfVectorizer(tokenizer=process_text,\n",
    "                                stop_words=stopwords.words('french'),\n",
    "                                max_df=0.5,\n",
    "                                min_df=0.1,\n",
    "                                lowercase=True)"
   ]
  },
  {
   "cell_type": "code",
   "execution_count": 11,
   "metadata": {},
   "outputs": [
    {
     "output_type": "stream",
     "name": "stdout",
     "text": [
      "CPU times: user 1min 22s, sys: 427 ms, total: 1min 22s\nWall time: 1min 23s\n"
     ]
    }
   ],
   "source": [
    "%time tfidf_vectors = vectorizer.fit_transform(texts)"
   ]
  },
  {
   "cell_type": "code",
   "execution_count": 12,
   "metadata": {},
   "outputs": [
    {
     "output_type": "execute_result",
     "data": {
      "text/plain": [
       "<420x6668 sparse matrix of type '<class 'numpy.float64'>'\n",
       "\twith 608083 stored elements in Compressed Sparse Row format>"
      ]
     },
     "metadata": {},
     "execution_count": 12
    }
   ],
   "source": [
    "tfidf_vectors"
   ]
  },
  {
   "cell_type": "code",
   "execution_count": 13,
   "metadata": {},
   "outputs": [
    {
     "output_type": "execute_result",
     "data": {
      "text/plain": [
       "fer        0.285979\n",
       "curage     0.210133\n",
       "chemins    0.159929\n",
       "tension    0.159280\n",
       "dma        0.153070\n",
       "             ...   \n",
       "munal      0.000000\n",
       "mur        0.000000\n",
       "murs       0.000000\n",
       "musin      0.000000\n",
       "#          0.000000\n",
       "Length: 6668, dtype: float64"
      ]
     },
     "metadata": {},
     "execution_count": 13
    }
   ],
   "source": [
    "# Exemple de vecteur TFIDF\n",
    "pd.Series(\n",
    "    tfidf_vectors[0].toarray()[0],\n",
    "    index=vectorizer.get_feature_names()\n",
    "    ).sort_values(ascending=False)"
   ]
  },
  {
   "source": [
    "# Comprendre les vecteurs et leurs \"distances\""
   ],
   "cell_type": "markdown",
   "metadata": {}
  },
  {
   "cell_type": "code",
   "execution_count": 14,
   "metadata": {},
   "outputs": [],
   "source": [
    "from scipy.spatial.distance import cosine"
   ]
  },
  {
   "cell_type": "code",
   "execution_count": 15,
   "metadata": {},
   "outputs": [
    {
     "output_type": "execute_result",
     "data": {
      "text/plain": [
       "0.0"
      ]
     },
     "metadata": {},
     "execution_count": 15
    }
   ],
   "source": [
    "cosine([1, 2, 3], [1, 2, 3])"
   ]
  },
  {
   "cell_type": "code",
   "execution_count": 16,
   "metadata": {},
   "outputs": [
    {
     "output_type": "execute_result",
     "data": {
      "text/plain": [
       "0.02004211298777725"
      ]
     },
     "metadata": {},
     "execution_count": 16
    }
   ],
   "source": [
    "cosine([1, 2, 3], [1, 2, 2])"
   ]
  },
  {
   "cell_type": "code",
   "execution_count": 17,
   "metadata": {},
   "outputs": [
    {
     "output_type": "execute_result",
     "data": {
      "text/plain": [
       "0.07417990022744858"
      ]
     },
     "metadata": {},
     "execution_count": 17
    }
   ],
   "source": [
    "cosine([1, 2, 3], [2, 2, 2])"
   ]
  },
  {
   "cell_type": "code",
   "execution_count": 18,
   "metadata": {},
   "outputs": [],
   "source": [
    "tfidf_array = tfidf_vectors.toarray()"
   ]
  },
  {
   "cell_type": "code",
   "execution_count": 19,
   "metadata": {},
   "outputs": [
    {
     "output_type": "execute_result",
     "data": {
      "text/plain": [
       "array([0.        , 0.        , 0.02430379, ..., 0.        , 0.01537096,\n",
       "       0.00911774])"
      ]
     },
     "metadata": {},
     "execution_count": 19
    }
   ],
   "source": [
    "tfidf_array[0]"
   ]
  },
  {
   "cell_type": "code",
   "execution_count": 20,
   "metadata": {},
   "outputs": [
    {
     "output_type": "execute_result",
     "data": {
      "text/plain": [
       "array([0.        , 0.        , 0.02430379, ..., 0.        , 0.01537096,\n",
       "       0.00911774])"
      ]
     },
     "metadata": {},
     "execution_count": 20
    }
   ],
   "source": [
    "tfidf_array[0]"
   ]
  },
  {
   "cell_type": "code",
   "execution_count": 21,
   "metadata": {},
   "outputs": [
    {
     "output_type": "execute_result",
     "data": {
      "text/plain": [
       "0.5890213388262817"
      ]
     },
     "metadata": {},
     "execution_count": 21
    }
   ],
   "source": [
    "cosine(tfidf_array[0], tfidf_array[1])"
   ]
  },
  {
   "source": [
    "# Clustering des vecteurs TFIDF"
   ],
   "cell_type": "markdown",
   "metadata": {}
  },
  {
   "source": [
    "Article intéressant sur le KMeans clustering :\n",
    "- https://medium.com/dataseries/k-means-clustering-explained-visually-in-5-minutes-b900cc69d175"
   ],
   "cell_type": "markdown",
   "metadata": {}
  },
  {
   "cell_type": "code",
   "execution_count": 22,
   "metadata": {},
   "outputs": [],
   "source": [
    "km_model = KMeans(n_clusters=N_CLUSTERS)"
   ]
  },
  {
   "cell_type": "code",
   "execution_count": 23,
   "metadata": {},
   "outputs": [
    {
     "output_type": "execute_result",
     "data": {
      "text/plain": [
       "KMeans(n_clusters=10)"
      ]
     },
     "metadata": {},
     "execution_count": 23
    }
   ],
   "source": [
    "km_model.fit(tfidf_vectors)"
   ]
  },
  {
   "cell_type": "code",
   "execution_count": 24,
   "metadata": {},
   "outputs": [
    {
     "output_type": "execute_result",
     "data": {
      "text/plain": [
       "array([1, 1, 1, 1, 1, 1, 1, 1, 8, 8, 1, 1, 1, 9, 9, 3, 3, 1, 1, 1, 1, 3,\n",
       "       1, 1, 1, 1, 1, 1, 1, 1, 5, 9, 9, 5, 5, 5, 5, 5, 9, 1, 1, 1, 1, 1,\n",
       "       1, 1, 1, 1, 8, 8, 8, 1, 1, 3, 3, 1, 1, 3, 3, 1, 1, 1, 1, 1, 1, 1,\n",
       "       1, 5, 5, 5, 5, 9, 1, 1, 6, 1, 1, 1, 1, 1, 1, 1, 8, 8, 8, 1, 1, 1,\n",
       "       3, 3, 1, 1, 1, 3, 3, 1, 1, 1, 1, 1, 1, 1, 1, 5, 9, 9, 9, 5, 5, 5,\n",
       "       9, 1, 1, 1, 1, 6, 6, 1, 7, 7, 1, 6, 3, 3, 6, 7, 7, 7, 8, 8, 6, 6,\n",
       "       1, 1, 1, 3, 3, 1, 1, 1, 1, 1, 1, 1, 1, 5, 9, 9, 9, 9, 5, 5, 9, 1,\n",
       "       1, 1, 1, 1, 6, 6, 6, 1, 7, 6, 7, 3, 3, 7, 7, 8, 8, 6, 7, 9, 7, 6,\n",
       "       1, 6, 6, 1, 3, 1, 1, 1, 1, 1, 6, 1, 1, 5, 9, 9, 9, 5, 5, 6, 6, 6,\n",
       "       6, 6, 1, 6, 1, 6, 7, 6, 6, 6, 3, 3, 7, 7, 1, 0, 1, 7, 7, 6, 6, 0,\n",
       "       0, 6, 6, 3, 6, 6, 6, 6, 6, 6, 0, 0, 9, 9, 9, 7, 7, 7, 7, 6, 6, 0,\n",
       "       0, 6, 6, 6, 6, 7, 6, 6, 3, 3, 0, 0, 6, 6, 6, 6, 6, 6, 6, 6, 6, 6,\n",
       "       6, 6, 6, 6, 6, 6, 0, 7, 9, 6, 6, 3, 3, 6, 0, 8, 7, 6, 6, 6, 6, 9,\n",
       "       9, 5, 7, 7, 7, 0, 6, 1, 0, 0, 6, 6, 6, 7, 6, 6, 6, 3, 6, 6, 6, 6,\n",
       "       6, 6, 6, 6, 6, 6, 6, 7, 9, 6, 6, 0, 2, 6, 7, 6, 9, 7, 6, 2, 7, 7,\n",
       "       2, 6, 6, 2, 2, 6, 2, 7, 0, 0, 2, 2, 2, 2, 2, 2, 2, 2, 2, 3, 3, 7,\n",
       "       2, 4, 4, 6, 2, 6, 3, 3, 2, 0, 0, 0, 2, 2, 2, 2, 2, 2, 2, 2, 7, 4,\n",
       "       4, 4, 4, 4, 4, 4, 4, 4, 3, 4, 2, 4, 4, 4, 4, 4, 3, 4, 4, 4, 4, 4,\n",
       "       4, 4, 4, 4, 4, 4, 3, 3, 1, 4, 4, 4, 4, 4, 4, 4, 4, 2, 9, 9, 2, 7,\n",
       "       7, 7], dtype=int32)"
      ]
     },
     "metadata": {},
     "execution_count": 24
    }
   ],
   "source": [
    "km_model.labels_"
   ]
  },
  {
   "cell_type": "code",
   "execution_count": 25,
   "metadata": {},
   "outputs": [],
   "source": [
    "clustering = collections.defaultdict(list)\n",
    "\n",
    "for idx, label in enumerate(km_model.labels_):\n",
    "    clustering[label].append(files[idx])"
   ]
  },
  {
   "cell_type": "code",
   "execution_count": 26,
   "metadata": {},
   "outputs": [
    {
     "output_type": "stream",
     "name": "stdout",
     "text": [
      "{0: ['Bxl_1965_Tome_II2_Part_5.txt',\n     'Bxl_1965_Tome_I_Part_10.txt',\n     'Bxl_1965_Tome_I_Part_11.txt',\n     'Bxl_1965_Tome_I_Part_8.txt',\n     'Bxl_1965_Tome_I_Part_9.txt',\n     'Bxl_1966_Tome_I1_Part_2.txt',\n     'Bxl_1966_Tome_I1_Part_3.txt',\n     'Bxl_1966_Tome_I2_Part_2.txt',\n     'Bxl_1966_Tome_I2_Part_3.txt',\n     'Bxl_1966_Tome_II1_Part_9.txt',\n     'Bxl_1966_Tome_II2_Part_3.txt',\n     'Bxl_1967_Tome_I1_Part_1.txt',\n     'Bxl_1967_Tome_I1_Part_2.txt',\n     'Bxl_1967_Tome_I1_Part_3.txt',\n     'Bxl_1967_Tome_II1_Part_7.txt',\n     'Bxl_1968_Tome_I1_Part_6.txt',\n     'Bxl_1968_Tome_I1_Part_7.txt',\n     'Bxl_1968_Tome_II2_Part_10.txt',\n     'Bxl_1968_Tome_II2_Part_11.txt',\n     'Bxl_1968_Tome_II2_Part_12.txt'],\n 1: ['Bxl_1960_Tome_II1_Part_1.txt',\n     'Bxl_1960_Tome_II1_Part_2.txt',\n     'Bxl_1960_Tome_II1_Part_3.txt',\n     'Bxl_1960_Tome_II1_Part_4.txt',\n     'Bxl_1960_Tome_II1_Part_5.txt',\n     'Bxl_1960_Tome_II1_Part_6.txt',\n     'Bxl_1960_Tome_II1_Part_7.txt',\n     'Bxl_1960_Tome_II1_Part_8.txt',\n     'Bxl_1960_Tome_II2_Part_3.txt',\n     'Bxl_1960_Tome_II2_Part_4.txt',\n     'Bxl_1960_Tome_II2_Part_5.txt',\n     'Bxl_1960_Tome_I_Part_1.txt',\n     'Bxl_1960_Tome_I_Part_10.txt',\n     'Bxl_1960_Tome_I_Part_11.txt',\n     'Bxl_1960_Tome_I_Part_12.txt',\n     'Bxl_1960_Tome_I_Part_2.txt',\n     'Bxl_1960_Tome_I_Part_3.txt',\n     'Bxl_1960_Tome_I_Part_4.txt',\n     'Bxl_1960_Tome_I_Part_5.txt',\n     'Bxl_1960_Tome_I_Part_6.txt',\n     'Bxl_1960_Tome_I_Part_7.txt',\n     'Bxl_1960_Tome_I_Part_8.txt',\n     'Bxl_1960_Tome_I_Part_9.txt',\n     'Bxl_1961_Tome_II1_Part_1.txt',\n     'Bxl_1961_Tome_II1_Part_2.txt',\n     'Bxl_1961_Tome_II1_Part_3.txt',\n     'Bxl_1961_Tome_II1_Part_4.txt',\n     'Bxl_1961_Tome_II1_Part_5.txt',\n     'Bxl_1961_Tome_II1_Part_6.txt',\n     'Bxl_1961_Tome_II1_Part_7.txt',\n     'Bxl_1961_Tome_II1_Part_8.txt',\n     'Bxl_1961_Tome_II2_Part_1.txt',\n     'Bxl_1961_Tome_II2_Part_5.txt',\n     'Bxl_1961_Tome_II2_Part_6.txt',\n     'Bxl_1961_Tome_I_Part_1.txt',\n     'Bxl_1961_Tome_I_Part_10.txt',\n     'Bxl_1961_Tome_I_Part_2.txt',\n     'Bxl_1961_Tome_I_Part_3.txt',\n     'Bxl_1961_Tome_I_Part_4.txt',\n     'Bxl_1961_Tome_I_Part_5.txt',\n     'Bxl_1961_Tome_I_Part_6.txt',\n     'Bxl_1961_Tome_I_Part_7.txt',\n     'Bxl_1961_Tome_I_Part_8.txt',\n     'Bxl_1961_Tome_I_Part_9.txt',\n     'Bxl_1962_Tome_II1_Part_1.txt',\n     'Bxl_1962_Tome_II1_Part_2.txt',\n     'Bxl_1962_Tome_II1_Part_4.txt',\n     'Bxl_1962_Tome_II1_Part_5.txt',\n     'Bxl_1962_Tome_II1_Part_6.txt',\n     'Bxl_1962_Tome_II1_Part_7.txt',\n     'Bxl_1962_Tome_II1_Part_8.txt',\n     'Bxl_1962_Tome_II1_Part_9.txt',\n     'Bxl_1962_Tome_II2_Part_1.txt',\n     'Bxl_1962_Tome_II2_Part_5.txt',\n     'Bxl_1962_Tome_II2_Part_6.txt',\n     'Bxl_1962_Tome_II2_Part_7.txt',\n     'Bxl_1962_Tome_I_Part_1.txt',\n     'Bxl_1962_Tome_I_Part_10.txt',\n     'Bxl_1962_Tome_I_Part_11.txt',\n     'Bxl_1962_Tome_I_Part_2.txt',\n     'Bxl_1962_Tome_I_Part_3.txt',\n     'Bxl_1962_Tome_I_Part_4.txt',\n     'Bxl_1962_Tome_I_Part_5.txt',\n     'Bxl_1962_Tome_I_Part_6.txt',\n     'Bxl_1962_Tome_I_Part_7.txt',\n     'Bxl_1962_Tome_I_Part_8.txt',\n     'Bxl_1962_Tome_I_Part_9.txt',\n     'Bxl_1963_Tome_II1_Part_1.txt',\n     'Bxl_1963_Tome_II1_Part_2.txt',\n     'Bxl_1963_Tome_II1_Part_3.txt',\n     'Bxl_1963_Tome_II1_Part_4.txt',\n     'Bxl_1963_Tome_II1_Part_7.txt',\n     'Bxl_1963_Tome_II2_Part_1.txt',\n     'Bxl_1963_Tome_I_Part_1.txt',\n     'Bxl_1963_Tome_I_Part_10.txt',\n     'Bxl_1963_Tome_I_Part_11.txt',\n     'Bxl_1963_Tome_I_Part_2.txt',\n     'Bxl_1963_Tome_I_Part_3.txt',\n     'Bxl_1963_Tome_I_Part_4.txt',\n     'Bxl_1963_Tome_I_Part_5.txt',\n     'Bxl_1963_Tome_I_Part_6.txt',\n     'Bxl_1963_Tome_I_Part_7.txt',\n     'Bxl_1963_Tome_I_Part_8.txt',\n     'Bxl_1963_Tome_I_Part_9.txt',\n     'Bxl_1964_Tome_II1_Part_1.txt',\n     'Bxl_1964_Tome_II1_Part_10.txt',\n     'Bxl_1964_Tome_II1_Part_11.txt',\n     'Bxl_1964_Tome_II1_Part_2.txt',\n     'Bxl_1964_Tome_II1_Part_3.txt',\n     'Bxl_1964_Tome_II1_Part_7.txt',\n     'Bxl_1964_Tome_I_Part_10.txt',\n     'Bxl_1964_Tome_I_Part_13.txt',\n     'Bxl_1964_Tome_I_Part_2.txt',\n     'Bxl_1964_Tome_I_Part_3.txt',\n     'Bxl_1964_Tome_I_Part_4.txt',\n     'Bxl_1964_Tome_I_Part_5.txt',\n     'Bxl_1964_Tome_I_Part_6.txt',\n     'Bxl_1964_Tome_I_Part_8.txt',\n     'Bxl_1964_Tome_I_Part_9.txt',\n     'Bxl_1965_Tome_II1_Part_6.txt',\n     'Bxl_1965_Tome_II1_Part_8.txt',\n     'Bxl_1965_Tome_II2_Part_4.txt',\n     'Bxl_1965_Tome_II2_Part_6.txt',\n     'Bxl_1967_Tome_I1_Part_11.txt',\n     'Bxl_1969_Tome_II2_Part_14.txt'],\n 2: ['Bxl_1967_Tome_II1_Part_8.txt',\n     'Bxl_1967_Tome_II2_Part_4.txt',\n     'Bxl_1967_Tome_II2_Part_7.txt',\n     'Bxl_1968_Tome_I1_Part_1.txt',\n     'Bxl_1968_Tome_I1_Part_2.txt',\n     'Bxl_1968_Tome_I1_Part_4.txt',\n     'Bxl_1968_Tome_I1_Part_8.txt',\n     'Bxl_1968_Tome_I1_Part_9.txt',\n     'Bxl_1968_Tome_I2_Part_1.txt',\n     'Bxl_1968_Tome_I2_Part_2.txt',\n     'Bxl_1968_Tome_I2_Part_3.txt',\n     'Bxl_1968_Tome_I2_Part_4.txt',\n     'Bxl_1968_Tome_I2_Part_5.txt',\n     'Bxl_1968_Tome_I2_Part_6.txt',\n     'Bxl_1968_Tome_I2_Part_7.txt',\n     'Bxl_1968_Tome_II1_Part_2.txt',\n     'Bxl_1968_Tome_II1_Part_6.txt',\n     'Bxl_1968_Tome_II2_Part_1.txt',\n     'Bxl_1968_Tome_II2_Part_13.txt',\n     'Bxl_1968_Tome_II2_Part_2.txt',\n     'Bxl_1968_Tome_II2_Part_3.txt',\n     'Bxl_1968_Tome_II2_Part_4.txt',\n     'Bxl_1968_Tome_II2_Part_5.txt',\n     'Bxl_1968_Tome_II2_Part_6.txt',\n     'Bxl_1968_Tome_II2_Part_7.txt',\n     'Bxl_1968_Tome_II2_Part_8.txt',\n     'Bxl_1969_Tome_I2_Part_3.txt',\n     'Bxl_1969_Tome_RptAn_Part_1.txt',\n     'Bxl_1969_Tome_RptAn_Part_4.txt'],\n 3: ['Bxl_1960_Tome_II2_Part_8.txt',\n     'Bxl_1960_Tome_II2_Part_9.txt',\n     'Bxl_1960_Tome_I_Part_13.txt',\n     'Bxl_1961_Tome_II2_Part_7.txt',\n     'Bxl_1961_Tome_II2_Part_8.txt',\n     'Bxl_1961_Tome_I_Part_11.txt',\n     'Bxl_1961_Tome_I_Part_12.txt',\n     'Bxl_1962_Tome_II2_Part_8.txt',\n     'Bxl_1962_Tome_II2_Part_9.txt',\n     'Bxl_1962_Tome_I_Part_12.txt',\n     'Bxl_1962_Tome_I_Part_13.txt',\n     'Bxl_1963_Tome_II2_Part_11.txt',\n     'Bxl_1963_Tome_II2_Part_12.txt',\n     'Bxl_1963_Tome_I_Part_12.txt',\n     'Bxl_1963_Tome_I_Part_13.txt',\n     'Bxl_1964_Tome_II2_Part_10.txt',\n     'Bxl_1964_Tome_II2_Part_11.txt',\n     'Bxl_1964_Tome_I_Part_14.txt',\n     'Bxl_1965_Tome_II2_Part_13.txt',\n     'Bxl_1965_Tome_II2_Part_14.txt',\n     'Bxl_1965_Tome_I_Part_14.txt',\n     'Bxl_1966_Tome_I2_Part_10.txt',\n     'Bxl_1966_Tome_I2_Part_11.txt',\n     'Bxl_1966_Tome_II2_Part_13.txt',\n     'Bxl_1966_Tome_II2_Part_14.txt',\n     'Bxl_1967_Tome_I2_Part_10.txt',\n     'Bxl_1968_Tome_I2_Part_8.txt',\n     'Bxl_1968_Tome_I2_Part_9.txt',\n     'Bxl_1968_Tome_II1_Part_8.txt',\n     'Bxl_1968_Tome_II1_Part_9.txt',\n     'Bxl_1969_Tome_I2_Part_10.txt',\n     'Bxl_1969_Tome_I2_Part_9.txt',\n     'Bxl_1969_Tome_II2_Part_12.txt',\n     'Bxl_1969_Tome_II2_Part_13.txt'],\n 4: ['Bxl_1968_Tome_II1_Part_3.txt',\n     'Bxl_1968_Tome_II1_Part_4.txt',\n     'Bxl_1969_Tome_I1_Part_1.txt',\n     'Bxl_1969_Tome_I1_Part_2.txt',\n     'Bxl_1969_Tome_I1_Part_3.txt',\n     'Bxl_1969_Tome_I1_Part_4.txt',\n     'Bxl_1969_Tome_I1_Part_5.txt',\n     'Bxl_1969_Tome_I1_Part_6.txt',\n     'Bxl_1969_Tome_I1_Part_7.txt',\n     'Bxl_1969_Tome_I1_Part_8.txt',\n     'Bxl_1969_Tome_I2_Part_1.txt',\n     'Bxl_1969_Tome_I2_Part_2.txt',\n     'Bxl_1969_Tome_I2_Part_4.txt',\n     'Bxl_1969_Tome_I2_Part_5.txt',\n     'Bxl_1969_Tome_I2_Part_6.txt',\n     'Bxl_1969_Tome_I2_Part_7.txt',\n     'Bxl_1969_Tome_I2_Part_8.txt',\n     'Bxl_1969_Tome_II1_Part_1.txt',\n     'Bxl_1969_Tome_II1_Part_2.txt',\n     'Bxl_1969_Tome_II1_Part_3.txt',\n     'Bxl_1969_Tome_II1_Part_4.txt',\n     'Bxl_1969_Tome_II1_Part_5.txt',\n     'Bxl_1969_Tome_II1_Part_6.txt',\n     'Bxl_1969_Tome_II1_Part_7.txt',\n     'Bxl_1969_Tome_II1_Part_8.txt',\n     'Bxl_1969_Tome_II2_Part_1.txt',\n     'Bxl_1969_Tome_II2_Part_10.txt',\n     'Bxl_1969_Tome_II2_Part_11.txt',\n     'Bxl_1969_Tome_II2_Part_2.txt',\n     'Bxl_1969_Tome_II2_Part_3.txt',\n     'Bxl_1969_Tome_II2_Part_4.txt',\n     'Bxl_1969_Tome_II2_Part_5.txt',\n     'Bxl_1969_Tome_II2_Part_6.txt',\n     'Bxl_1969_Tome_II2_Part_7.txt',\n     'Bxl_1969_Tome_II2_Part_8.txt',\n     'Bxl_1969_Tome_II2_Part_9.txt'],\n 5: ['Bxl_1960_Tome_RptAn_Part_1.txt',\n     'Bxl_1960_Tome_RptAn_Part_4.txt',\n     'Bxl_1960_Tome_RptAn_Part_5.txt',\n     'Bxl_1960_Tome_RptAn_Part_6.txt',\n     'Bxl_1960_Tome_RptAn_Part_7.txt',\n     'Bxl_1960_Tome_RptAn_Part_8.txt',\n     'Bxl_1961_Tome_RptAn_Part_1.txt',\n     'Bxl_1961_Tome_RptAn_Part_4.txt',\n     'Bxl_1961_Tome_RptAn_Part_6.txt',\n     'Bxl_1961_Tome_RptAn_Part_7.txt',\n     'Bxl_1962_Tome_RptAn_Part_1.txt',\n     'Bxl_1962_Tome_RptAn_Part_5.txt',\n     'Bxl_1962_Tome_RptAn_Part_6.txt',\n     'Bxl_1962_Tome_RptAn_Part_7.txt',\n     'Bxl_1963_Tome_RptAn_Part_1.txt',\n     'Bxl_1963_Tome_RptAn_Part_6.txt',\n     'Bxl_1963_Tome_RptAn_Part_7.txt',\n     'Bxl_1964_Tome_RptAn_Part_1.txt',\n     'Bxl_1964_Tome_RptAn_Part_5.txt',\n     'Bxl_1964_Tome_RptAn_Part_6.txt',\n     'Bxl_1966_Tome_RptAn_Part_3.txt'],\n 6: ['Bxl_1962_Tome_II1_Part_3.txt',\n     'Bxl_1963_Tome_II1_Part_5.txt',\n     'Bxl_1963_Tome_II1_Part_6.txt',\n     'Bxl_1963_Tome_II2_Part_10.txt',\n     'Bxl_1963_Tome_II2_Part_2.txt',\n     'Bxl_1963_Tome_II2_Part_8.txt',\n     'Bxl_1963_Tome_II2_Part_9.txt',\n     'Bxl_1964_Tome_II1_Part_4.txt',\n     'Bxl_1964_Tome_II1_Part_5.txt',\n     'Bxl_1964_Tome_II1_Part_6.txt',\n     'Bxl_1964_Tome_II1_Part_9.txt',\n     'Bxl_1964_Tome_II2_Part_6.txt',\n     'Bxl_1964_Tome_I_Part_1.txt',\n     'Bxl_1964_Tome_I_Part_11.txt',\n     'Bxl_1964_Tome_I_Part_12.txt',\n     'Bxl_1964_Tome_I_Part_7.txt',\n     'Bxl_1965_Tome_II1_Part_1.txt',\n     'Bxl_1965_Tome_II1_Part_2.txt',\n     'Bxl_1965_Tome_II1_Part_3.txt',\n     'Bxl_1965_Tome_II1_Part_4.txt',\n     'Bxl_1965_Tome_II1_Part_5.txt',\n     'Bxl_1965_Tome_II1_Part_7.txt',\n     'Bxl_1965_Tome_II1_Part_9.txt',\n     'Bxl_1965_Tome_II2_Part_10.txt',\n     'Bxl_1965_Tome_II2_Part_11.txt',\n     'Bxl_1965_Tome_II2_Part_12.txt',\n     'Bxl_1965_Tome_II2_Part_9.txt',\n     'Bxl_1965_Tome_I_Part_1.txt',\n     'Bxl_1965_Tome_I_Part_12.txt',\n     'Bxl_1965_Tome_I_Part_13.txt',\n     'Bxl_1965_Tome_I_Part_2.txt',\n     'Bxl_1965_Tome_I_Part_3.txt',\n     'Bxl_1965_Tome_I_Part_4.txt',\n     'Bxl_1965_Tome_I_Part_5.txt',\n     'Bxl_1965_Tome_I_Part_6.txt',\n     'Bxl_1965_Tome_I_Part_7.txt',\n     'Bxl_1966_Tome_I1_Part_1.txt',\n     'Bxl_1966_Tome_I1_Part_10.txt',\n     'Bxl_1966_Tome_I1_Part_4.txt',\n     'Bxl_1966_Tome_I1_Part_5.txt',\n     'Bxl_1966_Tome_I1_Part_6.txt',\n     'Bxl_1966_Tome_I1_Part_7.txt',\n     'Bxl_1966_Tome_I1_Part_9.txt',\n     'Bxl_1966_Tome_I2_Part_1.txt',\n     'Bxl_1966_Tome_I2_Part_4.txt',\n     'Bxl_1966_Tome_I2_Part_5.txt',\n     'Bxl_1966_Tome_I2_Part_6.txt',\n     'Bxl_1966_Tome_I2_Part_7.txt',\n     'Bxl_1966_Tome_I2_Part_8.txt',\n     'Bxl_1966_Tome_I2_Part_9.txt',\n     'Bxl_1966_Tome_II1_Part_1.txt',\n     'Bxl_1966_Tome_II1_Part_10.txt',\n     'Bxl_1966_Tome_II1_Part_11.txt',\n     'Bxl_1966_Tome_II1_Part_2.txt',\n     'Bxl_1966_Tome_II1_Part_3.txt',\n     'Bxl_1966_Tome_II1_Part_4.txt',\n     'Bxl_1966_Tome_II1_Part_5.txt',\n     'Bxl_1966_Tome_II1_Part_6.txt',\n     'Bxl_1966_Tome_II1_Part_7.txt',\n     'Bxl_1966_Tome_II1_Part_8.txt',\n     'Bxl_1966_Tome_II2_Part_11.txt',\n     'Bxl_1966_Tome_II2_Part_12.txt',\n     'Bxl_1966_Tome_II2_Part_2.txt',\n     'Bxl_1966_Tome_II2_Part_6.txt',\n     'Bxl_1966_Tome_II2_Part_7.txt',\n     'Bxl_1966_Tome_II2_Part_8.txt',\n     'Bxl_1966_Tome_II2_Part_9.txt',\n     'Bxl_1967_Tome_I1_Part_10.txt',\n     'Bxl_1967_Tome_I1_Part_4.txt',\n     'Bxl_1967_Tome_I1_Part_5.txt',\n     'Bxl_1967_Tome_I1_Part_6.txt',\n     'Bxl_1967_Tome_I1_Part_8.txt',\n     'Bxl_1967_Tome_I1_Part_9.txt',\n     'Bxl_1967_Tome_I2_Part_1.txt',\n     'Bxl_1967_Tome_I2_Part_2.txt',\n     'Bxl_1967_Tome_I2_Part_3.txt',\n     'Bxl_1967_Tome_I2_Part_4.txt',\n     'Bxl_1967_Tome_I2_Part_5.txt',\n     'Bxl_1967_Tome_I2_Part_6.txt',\n     'Bxl_1967_Tome_I2_Part_7.txt',\n     'Bxl_1967_Tome_I2_Part_8.txt',\n     'Bxl_1967_Tome_I2_Part_9.txt',\n     'Bxl_1967_Tome_II1_Part_1.txt',\n     'Bxl_1967_Tome_II1_Part_10.txt',\n     'Bxl_1967_Tome_II1_Part_2.txt',\n     'Bxl_1967_Tome_II1_Part_5.txt',\n     'Bxl_1967_Tome_II1_Part_6.txt',\n     'Bxl_1967_Tome_II1_Part_9.txt',\n     'Bxl_1967_Tome_II2_Part_10.txt',\n     'Bxl_1967_Tome_II2_Part_3.txt',\n     'Bxl_1967_Tome_II2_Part_8.txt',\n     'Bxl_1967_Tome_II2_Part_9.txt',\n     'Bxl_1968_Tome_I1_Part_3.txt',\n     'Bxl_1968_Tome_II1_Part_5.txt',\n     'Bxl_1968_Tome_II1_Part_7.txt'],\n 7: ['Bxl_1963_Tome_II1_Part_8.txt',\n     'Bxl_1963_Tome_II1_Part_9.txt',\n     'Bxl_1963_Tome_II2_Part_3.txt',\n     'Bxl_1963_Tome_II2_Part_4.txt',\n     'Bxl_1963_Tome_II2_Part_5.txt',\n     'Bxl_1964_Tome_II1_Part_8.txt',\n     'Bxl_1964_Tome_II2_Part_1.txt',\n     'Bxl_1964_Tome_II2_Part_2.txt',\n     'Bxl_1964_Tome_II2_Part_3.txt',\n     'Bxl_1964_Tome_II2_Part_7.txt',\n     'Bxl_1964_Tome_II2_Part_9.txt',\n     'Bxl_1965_Tome_II2_Part_1.txt',\n     'Bxl_1965_Tome_II2_Part_2.txt',\n     'Bxl_1965_Tome_II2_Part_3.txt',\n     'Bxl_1965_Tome_II2_Part_7.txt',\n     'Bxl_1965_Tome_II2_Part_8.txt',\n     'Bxl_1965_Tome_RptAn_Part_4.txt',\n     'Bxl_1965_Tome_RptAn_Part_5.txt',\n     'Bxl_1965_Tome_RptAn_Part_6.txt',\n     'Bxl_1965_Tome_RptAn_Part_7.txt',\n     'Bxl_1966_Tome_I1_Part_8.txt',\n     'Bxl_1966_Tome_II2_Part_1.txt',\n     'Bxl_1966_Tome_II2_Part_5.txt',\n     'Bxl_1966_Tome_RptAn_Part_4.txt',\n     'Bxl_1966_Tome_RptAn_Part_5.txt',\n     'Bxl_1966_Tome_RptAn_Part_6.txt',\n     'Bxl_1967_Tome_I1_Part_7.txt',\n     'Bxl_1967_Tome_II1_Part_3.txt',\n     'Bxl_1967_Tome_II2_Part_1.txt',\n     'Bxl_1967_Tome_II2_Part_2.txt',\n     'Bxl_1967_Tome_II2_Part_5.txt',\n     'Bxl_1967_Tome_II2_Part_6.txt',\n     'Bxl_1968_Tome_I1_Part_5.txt',\n     'Bxl_1968_Tome_II1_Part_1.txt',\n     'Bxl_1968_Tome_II2_Part_9.txt',\n     'Bxl_1969_Tome_RptAn_Part_5.txt',\n     'Bxl_1969_Tome_RptAn_Part_6.txt',\n     'Bxl_1969_Tome_RptAn_Part_7.txt'],\n 8: ['Bxl_1960_Tome_II2_Part_1.txt',\n     'Bxl_1960_Tome_II2_Part_2.txt',\n     'Bxl_1961_Tome_II2_Part_2.txt',\n     'Bxl_1961_Tome_II2_Part_3.txt',\n     'Bxl_1961_Tome_II2_Part_4.txt',\n     'Bxl_1962_Tome_II2_Part_2.txt',\n     'Bxl_1962_Tome_II2_Part_3.txt',\n     'Bxl_1962_Tome_II2_Part_4.txt',\n     'Bxl_1963_Tome_II2_Part_6.txt',\n     'Bxl_1963_Tome_II2_Part_7.txt',\n     'Bxl_1964_Tome_II2_Part_4.txt',\n     'Bxl_1964_Tome_II2_Part_5.txt',\n     'Bxl_1966_Tome_II2_Part_4.txt'],\n 9: ['Bxl_1960_Tome_II2_Part_6.txt',\n     'Bxl_1960_Tome_II2_Part_7.txt',\n     'Bxl_1960_Tome_RptAn_Part_2.txt',\n     'Bxl_1960_Tome_RptAn_Part_3.txt',\n     'Bxl_1960_Tome_RptAn_Part_9.txt',\n     'Bxl_1961_Tome_RptAn_Part_8.txt',\n     'Bxl_1962_Tome_RptAn_Part_2.txt',\n     'Bxl_1962_Tome_RptAn_Part_3.txt',\n     'Bxl_1962_Tome_RptAn_Part_4.txt',\n     'Bxl_1962_Tome_RptAn_Part_8.txt',\n     'Bxl_1963_Tome_RptAn_Part_2.txt',\n     'Bxl_1963_Tome_RptAn_Part_3.txt',\n     'Bxl_1963_Tome_RptAn_Part_4.txt',\n     'Bxl_1963_Tome_RptAn_Part_5.txt',\n     'Bxl_1963_Tome_RptAn_Part_8.txt',\n     'Bxl_1964_Tome_II2_Part_8.txt',\n     'Bxl_1964_Tome_RptAn_Part_2.txt',\n     'Bxl_1964_Tome_RptAn_Part_3.txt',\n     'Bxl_1964_Tome_RptAn_Part_4.txt',\n     'Bxl_1965_Tome_RptAn_Part_1.txt',\n     'Bxl_1965_Tome_RptAn_Part_2.txt',\n     'Bxl_1965_Tome_RptAn_Part_3.txt',\n     'Bxl_1966_Tome_II2_Part_10.txt',\n     'Bxl_1966_Tome_RptAn_Part_1.txt',\n     'Bxl_1966_Tome_RptAn_Part_2.txt',\n     'Bxl_1967_Tome_II1_Part_4.txt',\n     'Bxl_1967_Tome_II2_Part_11.txt',\n     'Bxl_1969_Tome_RptAn_Part_2.txt',\n     'Bxl_1969_Tome_RptAn_Part_3.txt']}\n"
     ]
    }
   ],
   "source": [
    "pprint(dict(clustering))"
   ]
  },
  {
   "source": [
    "# Analyse des mots-clés de chaque cluster"
   ],
   "cell_type": "markdown",
   "metadata": {}
  },
  {
   "cell_type": "code",
   "execution_count": 27,
   "metadata": {},
   "outputs": [
    {
     "output_type": "execute_result",
     "data": {
      "text/plain": [
       "<yake.yake.KeywordExtractor at 0x7fb503d6d4c0>"
      ]
     },
     "metadata": {},
     "execution_count": 27
    }
   ],
   "source": [
    "kw_extractor = yake.KeywordExtractor(lan=\"fr\", top=5)\n",
    "kw_extractor"
   ]
  },
  {
   "cell_type": "code",
   "execution_count": 28,
   "metadata": {},
   "outputs": [],
   "source": [
    "ignored = set([\"conseil communal\", \"conseil général\",\"brussel\",\"van\",\"het\",\"bourgmestre\",\"échevin\",\"madame\",\"monsieur\",\"messieurs\",\"mesdames\",\"les\", \"plus\", \"cette\", \"fait\", \"faire\", \"être\", \"deux\", \"comme\", \"dont\", \"tout\", \"ils\", \"bien\", \"sans\", \"peut\", \"tous\", \"après\", \"ainsi\", \"donc\", \"cet\", \"sous\", \"celle\", \"entre\", \"encore\", \"toutes\", \"pendant\", \"moins\", \"dire\", \"cela\", \"non\", \"faut\", \"trois\", \"aussi\", \"dit\", \"avoir\", \"doit\", \"contre\", \"depuis\", \"autres\", \"van\", \"het\", \"autre\", \"jusqu\", \"oktober\", \"klein\", \"décembre\", \"ville\", \"bruxelles\", \"conseil communal\",\"mesdames\", \"messieurs\", \"bourgmestre\", \"commune\",\"communal\", \"franc\", \"question\", \"belge\",\"commission\", \"très\", \"rue\",\"francs\",\"ceux\",\"pourrait\",\"belgique\", \"conseil\",\"collège\", \"année\",\"assistance\",\"demande\",\"service\",\"cour\",\"proposition\",\"article\", \"septembre\",\"favorable\",\"grand\",\"concerne\",\"total\",\"personnel\",\"moment\", \"toute\",\"certain\",\"août\",\"leurs\", \"peuvent\",\"relative\",\"peu\", \"également\",\"voir\",\"elles\",\"grande\",\"nombre\",\"celui\", \"cours\",\"laquelle\",\"née\",\"mar\",\"divers\"])"
   ]
  },
  {
   "source": [
    "for key,value in clustering.items():\n",
    "    print(\"Clé : \" + str(key))\n",
    "    for listitem in value:\n",
    "        text = open(f'{data_path}/{listitem}', encoding='utf-8').read()\n",
    "        keywords = kw_extractor.extract_keywords(text)\n",
    "        kept = []\n",
    "        for kw, score in keywords:\n",
    "            words = kw.split()\n",
    "            if len(words) > 1 and kw not in ignored:\n",
    "                kept.append(kw)\n",
    "        print(f\"{listitem} : {' - '.join(kept)}...\")"
   ],
   "cell_type": "code",
   "metadata": {},
   "execution_count": 29,
   "outputs": [
    {
     "output_type": "stream",
     "name": "stdout",
     "text": [
      "Clé : 1\n",
      "Bxl_1960_Tome_II1_Part_1.txt : commission d'assistance publique...\n",
      "Bxl_1960_Tome_II1_Part_2.txt : commission d'assistance publique - pouvoir compétent d'acquérir - pouvoir compétent l'autorisation - pouvoir compétent...\n",
      "Bxl_1960_Tome_II1_Part_3.txt : rue rue marché - rue van artevelde - rue van - rue marché...\n",
      "Bxl_1960_Tome_II1_Part_4.txt : commission d'assistance publique - principe d'une dépense - mesdames et messieurs...\n",
      "Bxl_1960_Tome_II1_Part_5.txt : commission d'assistance publique...\n",
      "Bxl_1960_Tome_II1_Part_6.txt : bourgmestre et echevins - voie publique...\n",
      "Bxl_1960_Tome_II1_Part_7.txt : collège van burgemeester - het collège van - commission d'assistance publique...\n",
      "Bxl_1960_Tome_II1_Part_8.txt : année année année...\n",
      "Bxl_1960_Tome_II2_Part_3.txt : ...\n",
      "Bxl_1960_Tome_II2_Part_4.txt : crédit communal...\n",
      "Bxl_1960_Tome_II2_Part_5.txt : ...\n",
      "Bxl_1960_Tome_I_Part_1.txt : commission d'assistance publique - recettes dépenses excédent - avis favorable...\n",
      "Bxl_1960_Tome_I_Part_10.txt : monsieur le bourgmestre...\n",
      "Bxl_1960_Tome_I_Part_11.txt : création d'une section...\n",
      "Bxl_1960_Tome_I_Part_12.txt : monsieur le bourgmestre...\n",
      "Bxl_1960_Tome_I_Part_2.txt : principe d'une dépense - d'une dépense...\n",
      "Bxl_1960_Tome_I_Part_3.txt : rue belliard...\n",
      "Bxl_1960_Tome_I_Part_4.txt : commission d'assistance publique...\n",
      "Bxl_1960_Tome_I_Part_5.txt : frais généraux frais...\n",
      "Bxl_1960_Tome_I_Part_6.txt : arts superieure art...\n",
      "Bxl_1960_Tome_I_Part_7.txt : dépenses recettes mali - compte budget budget - budget dépenses recettes - compte compte budget - exercice budget dépenses...\n",
      "Bxl_1960_Tome_I_Part_8.txt : commission d'assistance publique - crédit communal - d'assistance publique...\n",
      "Bxl_1960_Tome_I_Part_9.txt : commission d'assistance publique...\n",
      "Bxl_1961_Tome_II1_Part_1.txt : considérant qu'il - pouvoir compétent...\n",
      "Bxl_1961_Tome_II1_Part_2.txt : considérant qu'il - commission d'assistance publique - pouvoir compétent l'autorisation - pouvoir compétent...\n",
      "Bxl_1961_Tome_II1_Part_3.txt : commission d'assistance publique - collège van burgemeester - monsieur le bourgmestre...\n",
      "Bxl_1961_Tome_II1_Part_4.txt : commission d'assistance publique - mesdames et messieurs...\n",
      "Bxl_1961_Tome_II1_Part_5.txt : francs francs francs - commission d'assistance publique - caisse publique...\n",
      "Bxl_1961_Tome_II1_Part_6.txt : conseil d'administration - caisse publique...\n",
      "Bxl_1961_Tome_II1_Part_7.txt : commission d'assistance publique - principe d'une dépense - commission d'assistance...\n",
      "Bxl_1961_Tome_II1_Part_8.txt : diminutions nouveau crédit - commission d'assistance publique - banque sté générale - majorations diminutions nouveau...\n",
      "Bxl_1961_Tome_II2_Part_1.txt : bourgmestre et echevins...\n",
      "Bxl_1961_Tome_II2_Part_5.txt : monsieur le bourgmestre...\n",
      "Bxl_1961_Tome_II2_Part_6.txt : francs francs francs - monsieur le bourgmestre...\n",
      "Bxl_1961_Tome_I_Part_1.txt : commission d'assistance publique - commission d'assistance - d'assistance publique - mesdames et messieurs...\n",
      "Bxl_1961_Tome_I_Part_10.txt : commission d'assistance publique - mesdames et messieurs - commission d'assistance...\n",
      "Bxl_1961_Tome_I_Part_2.txt : commission d'assistance publique - commission d'assistance - d'assistance publique...\n",
      "Bxl_1961_Tome_I_Part_3.txt : commission d'assistance publique...\n",
      "Bxl_1961_Tome_I_Part_4.txt : rue rue rue - rue rue...\n",
      "Bxl_1961_Tome_I_Part_5.txt : ville de bruxelles - monsieur le bourgmestre...\n",
      "Bxl_1961_Tome_I_Part_6.txt : monsieur le bourgmestre...\n",
      "Bxl_1961_Tome_I_Part_7.txt : commission d'assistance publique - commission d'assistance - d'assistance publique...\n",
      "Bxl_1961_Tome_I_Part_8.txt : dépenses recettes mali - compte budget budget - compte dépenses recettes - budget dépenses recettes - compte compte budget...\n",
      "Bxl_1961_Tome_I_Part_9.txt : commission d'assistance publique - commission d'assistance - d'assistance publique...\n",
      "Bxl_1962_Tome_II1_Part_1.txt : commission d'assistance publique - commission d'assistance...\n",
      "Bxl_1962_Tome_II1_Part_2.txt : considérant qu'il - rue rue rue - commission d'assistance publique...\n",
      "Bxl_1962_Tome_II1_Part_4.txt : monsieur le bourgmestre...\n",
      "Bxl_1962_Tome_II1_Part_5.txt : principe d'une dépense...\n",
      "Bxl_1962_Tome_II1_Part_6.txt : considérant qu'il - considérant qu'il s'agit - dépense de l'ordre - résultera une dépense...\n",
      "Bxl_1962_Tome_II1_Part_7.txt : considérant qu'il - commission d'assistance publique...\n",
      "Bxl_1962_Tome_II1_Part_8.txt : considérant qu'il - considérant qu'il s'agit...\n",
      "Bxl_1962_Tome_II1_Part_9.txt : droits réels recouvrements...\n",
      "Bxl_1962_Tome_II2_Part_1.txt : considérant qu'il - justification détaillée crédits - l'article justification détaillée...\n",
      "Bxl_1962_Tome_II2_Part_5.txt : commission d'assistance publique - grandes villes - commission d'assistance...\n",
      "Bxl_1962_Tome_II2_Part_6.txt : monsieur le bourgmestre - ville de bruxelles...\n",
      "Bxl_1962_Tome_II2_Part_7.txt : commission d'assistance publique...\n",
      "Bxl_1962_Tome_I_Part_1.txt : commission d'assistance publique - monsieur le bourgmestre...\n",
      "Bxl_1962_Tome_I_Part_10.txt : budget budget budget - cahier cahier cahier - budget dépenses recettes - commission d'assistance publique - cahier recettes dépenses...\n",
      "Bxl_1962_Tome_I_Part_11.txt : commission d'assistance publique - commission d'assistance - d'assistance publique - francs francs francs...\n",
      "Bxl_1962_Tome_I_Part_2.txt : commission d'assistance publique - pouvoir compétent l'autorisation - pouvoir compétent - mesdames et messieurs - principe d'une dépense...\n",
      "Bxl_1962_Tome_I_Part_3.txt : ...\n",
      "Bxl_1962_Tome_I_Part_4.txt : libre de bruxelles - ville de bruxelles...\n",
      "Bxl_1962_Tome_I_Part_5.txt : ...\n",
      "Bxl_1962_Tome_I_Part_6.txt : ...\n",
      "Bxl_1962_Tome_I_Part_7.txt : commission d'assistance publique - commission d'assistance...\n",
      "Bxl_1962_Tome_I_Part_8.txt : monsieur le bourgmestre...\n",
      "Bxl_1962_Tome_I_Part_9.txt : dépenses recettes mali - budget dépenses recettes - compte compte compte - compte budget budget - compte compte budget...\n",
      "Bxl_1963_Tome_II1_Part_1.txt : rue rue rue - rue rue - place rue rue - rue rue impasse...\n",
      "Bxl_1963_Tome_II1_Part_2.txt : rue rue rue - rue rue - rue avenue rue - avenue rue rue - place rue rue...\n",
      "Bxl_1963_Tome_II1_Part_3.txt : considérant qu'il - considérant faire considérant - hôpital service principe - considérant considérant...\n",
      "Bxl_1963_Tome_II1_Part_4.txt : considérant qu'il - considérant considérant - résultera une dépense...\n",
      "Bxl_1963_Tome_II1_Part_7.txt : van openbare onderstand...\n",
      "Bxl_1963_Tome_II2_Part_1.txt : zitting van - van het...\n",
      "Bxl_1963_Tome_I_Part_1.txt : commission d'assistance publique - commission d'assistance - d'assistance publique...\n",
      "Bxl_1963_Tome_I_Part_10.txt : commission d'assistance publique - commission d'assistance - d'assistance publique...\n",
      "Bxl_1963_Tome_I_Part_11.txt : crédit communal - commission d'assistance publique - monsieur le bourgmestre...\n",
      "Bxl_1963_Tome_I_Part_2.txt : commission d'assistance publique - principe d'une dépense - idem idem idem...\n",
      "Bxl_1963_Tome_I_Part_3.txt : avenue antoon van - antoon van oss...\n",
      "Bxl_1963_Tome_I_Part_4.txt : commission d'assistance publique...\n",
      "Bxl_1963_Tome_I_Part_5.txt : ville de bruxelles...\n",
      "Bxl_1963_Tome_I_Part_6.txt : ...\n",
      "Bxl_1963_Tome_I_Part_7.txt : recettes dépenses excédent...\n",
      "Bxl_1963_Tome_I_Part_8.txt : budget dépenses recettes - dépenses recettes mali - exercice budget dépenses - dépenses recettes - budget dépenses...\n",
      "Bxl_1963_Tome_I_Part_9.txt : recettes depenses budget - budget budget budget - budget dépenses recettes - dépenses recettes mali - recettes depenses subsides...\n",
      "Bxl_1964_Tome_II1_Part_1.txt : commission d'assistance publique - commission d'assistance - d'assistance publique...\n",
      "Bxl_1964_Tome_II1_Part_10.txt : diminution nouveau crédit - nouveau crédit - majoration diminution nouveau...\n",
      "Bxl_1964_Tome_II1_Part_11.txt : titre provisoire - titre définitif...\n",
      "Bxl_1964_Tome_II1_Part_2.txt : considérant qu'il - hôpital service principe - commission d'assistance publique...\n",
      "Bxl_1964_Tome_II1_Part_3.txt : considérant qu'il - hôpital service principe - commission d'assistance publique - matériel spécifié ci-dessus...\n",
      "Bxl_1964_Tome_II1_Part_7.txt : francs francs francs - crédit communal - communal de belgique - francs francs...\n",
      "Bxl_1964_Tome_I_Part_10.txt : commission d'assistance publique - journées budget budget - budget budget - recettes compte...\n",
      "Bxl_1964_Tome_I_Part_13.txt : commission d'assistance publique - considérant qu'il - commission d'assistance...\n",
      "Bxl_1964_Tome_I_Part_2.txt : van het collège - van het - van het van - het collège van...\n",
      "Bxl_1964_Tome_I_Part_3.txt : dépenses engagées crédits - allocations budgétaires dépenses - droits réels recouvrements - sommes irrécouvrables droits - droits constatés sommes...\n",
      "Bxl_1964_Tome_I_Part_4.txt : ville de bruxelles...\n",
      "Bxl_1964_Tome_I_Part_5.txt : commission d'assistance publique - commission d'assistance - d'assistance publique...\n",
      "Bxl_1964_Tome_I_Part_6.txt : suspension conseil communal - gouverneur du brabant...\n",
      "Bxl_1964_Tome_I_Part_8.txt : van openbare onderstand - commissie van openbare...\n",
      "Bxl_1964_Tome_I_Part_9.txt : recettes dépenses excédent - recettes dépenses budget - recettes dépenses...\n",
      "Bxl_1965_Tome_II1_Part_6.txt : hôpital service principe - principe d'une dépense - travaux spécifiés ci-dessus - l'article aard van...\n",
      "Bxl_1965_Tome_II1_Part_8.txt : commission d'assistance publique - hôpital service principe - pouvoir compétent l'autorisation - commission d'assistance...\n",
      "Bxl_1965_Tome_II2_Part_4.txt : nouveau crédit nieuw - l'article omschrijving van - omschrijving van het...\n",
      "Bxl_1965_Tome_II2_Part_6.txt : nouveau crédit nieuw - vermindering nouveau crédit - crédit nieuw krediet - verhoging der wedden - krediet observations opmerkingen...\n"
     ]
    },
    {
     "output_type": "error",
     "ename": "ValueError",
     "evalue": "max() arg is an empty sequence",
     "traceback": [
      "\u001b[0;31m---------------------------------------------------------------------------\u001b[0m",
      "\u001b[0;31mValueError\u001b[0m                                Traceback (most recent call last)",
      "\u001b[0;32m<ipython-input-29-d3f52ce3099c>\u001b[0m in \u001b[0;36m<module>\u001b[0;34m\u001b[0m\n\u001b[1;32m      3\u001b[0m     \u001b[0;32mfor\u001b[0m \u001b[0mlistitem\u001b[0m \u001b[0;32min\u001b[0m \u001b[0mvalue\u001b[0m\u001b[0;34m:\u001b[0m\u001b[0;34m\u001b[0m\u001b[0;34m\u001b[0m\u001b[0m\n\u001b[1;32m      4\u001b[0m         \u001b[0mtext\u001b[0m \u001b[0;34m=\u001b[0m \u001b[0mopen\u001b[0m\u001b[0;34m(\u001b[0m\u001b[0;34mf'{data_path}/{listitem}'\u001b[0m\u001b[0;34m,\u001b[0m \u001b[0mencoding\u001b[0m\u001b[0;34m=\u001b[0m\u001b[0;34m'utf-8'\u001b[0m\u001b[0;34m)\u001b[0m\u001b[0;34m.\u001b[0m\u001b[0mread\u001b[0m\u001b[0;34m(\u001b[0m\u001b[0;34m)\u001b[0m\u001b[0;34m\u001b[0m\u001b[0;34m\u001b[0m\u001b[0m\n\u001b[0;32m----> 5\u001b[0;31m         \u001b[0mkeywords\u001b[0m \u001b[0;34m=\u001b[0m \u001b[0mkw_extractor\u001b[0m\u001b[0;34m.\u001b[0m\u001b[0mextract_keywords\u001b[0m\u001b[0;34m(\u001b[0m\u001b[0mtext\u001b[0m\u001b[0;34m)\u001b[0m\u001b[0;34m\u001b[0m\u001b[0;34m\u001b[0m\u001b[0m\n\u001b[0m\u001b[1;32m      6\u001b[0m         \u001b[0mkept\u001b[0m \u001b[0;34m=\u001b[0m \u001b[0;34m[\u001b[0m\u001b[0;34m]\u001b[0m\u001b[0;34m\u001b[0m\u001b[0;34m\u001b[0m\u001b[0m\n\u001b[1;32m      7\u001b[0m         \u001b[0;32mfor\u001b[0m \u001b[0mkw\u001b[0m\u001b[0;34m,\u001b[0m \u001b[0mscore\u001b[0m \u001b[0;32min\u001b[0m \u001b[0mkeywords\u001b[0m\u001b[0;34m:\u001b[0m\u001b[0;34m\u001b[0m\u001b[0;34m\u001b[0m\u001b[0m\n",
      "\u001b[0;32m/Library/Frameworks/Python.framework/Versions/3.9/lib/python3.9/site-packages/yake/yake.py\u001b[0m in \u001b[0;36mextract_keywords\u001b[0;34m(self, text)\u001b[0m\n\u001b[1;32m     59\u001b[0m         \u001b[0mtext\u001b[0m \u001b[0;34m=\u001b[0m \u001b[0mtext\u001b[0m\u001b[0;34m.\u001b[0m\u001b[0mreplace\u001b[0m\u001b[0;34m(\u001b[0m\u001b[0;34m'\\n\\t'\u001b[0m\u001b[0;34m,\u001b[0m\u001b[0;34m' '\u001b[0m\u001b[0;34m)\u001b[0m\u001b[0;34m\u001b[0m\u001b[0;34m\u001b[0m\u001b[0m\n\u001b[1;32m     60\u001b[0m         \u001b[0mdc\u001b[0m \u001b[0;34m=\u001b[0m \u001b[0mDataCore\u001b[0m\u001b[0;34m(\u001b[0m\u001b[0mtext\u001b[0m\u001b[0;34m=\u001b[0m\u001b[0mtext\u001b[0m\u001b[0;34m,\u001b[0m \u001b[0mstopword_set\u001b[0m\u001b[0;34m=\u001b[0m\u001b[0mself\u001b[0m\u001b[0;34m.\u001b[0m\u001b[0mstopword_set\u001b[0m\u001b[0;34m,\u001b[0m \u001b[0mwindowsSize\u001b[0m\u001b[0;34m=\u001b[0m\u001b[0mself\u001b[0m\u001b[0;34m.\u001b[0m\u001b[0mwindowsSize\u001b[0m\u001b[0;34m,\u001b[0m \u001b[0mn\u001b[0m\u001b[0;34m=\u001b[0m\u001b[0mself\u001b[0m\u001b[0;34m.\u001b[0m\u001b[0mn\u001b[0m\u001b[0;34m)\u001b[0m\u001b[0;34m\u001b[0m\u001b[0;34m\u001b[0m\u001b[0m\n\u001b[0;32m---> 61\u001b[0;31m         \u001b[0mdc\u001b[0m\u001b[0;34m.\u001b[0m\u001b[0mbuild_single_terms_features\u001b[0m\u001b[0;34m(\u001b[0m\u001b[0mfeatures\u001b[0m\u001b[0;34m=\u001b[0m\u001b[0mself\u001b[0m\u001b[0;34m.\u001b[0m\u001b[0mfeatures\u001b[0m\u001b[0;34m)\u001b[0m\u001b[0;34m\u001b[0m\u001b[0;34m\u001b[0m\u001b[0m\n\u001b[0m\u001b[1;32m     62\u001b[0m         \u001b[0mdc\u001b[0m\u001b[0;34m.\u001b[0m\u001b[0mbuild_mult_terms_features\u001b[0m\u001b[0;34m(\u001b[0m\u001b[0mfeatures\u001b[0m\u001b[0;34m=\u001b[0m\u001b[0mself\u001b[0m\u001b[0;34m.\u001b[0m\u001b[0mfeatures\u001b[0m\u001b[0;34m)\u001b[0m\u001b[0;34m\u001b[0m\u001b[0;34m\u001b[0m\u001b[0m\n\u001b[1;32m     63\u001b[0m         \u001b[0mresultSet\u001b[0m \u001b[0;34m=\u001b[0m \u001b[0;34m[\u001b[0m\u001b[0;34m]\u001b[0m\u001b[0;34m\u001b[0m\u001b[0;34m\u001b[0m\u001b[0m\n",
      "\u001b[0;32m/Library/Frameworks/Python.framework/Versions/3.9/lib/python3.9/site-packages/yake/datarepresentation.py\u001b[0m in \u001b[0;36mbuild_single_terms_features\u001b[0;34m(self, features)\u001b[0m\n\u001b[1;32m    106\u001b[0m         \u001b[0mavgTF\u001b[0m \u001b[0;34m=\u001b[0m \u001b[0mvalidTFs\u001b[0m\u001b[0;34m.\u001b[0m\u001b[0mmean\u001b[0m\u001b[0;34m(\u001b[0m\u001b[0;34m)\u001b[0m\u001b[0;34m\u001b[0m\u001b[0;34m\u001b[0m\u001b[0m\n\u001b[1;32m    107\u001b[0m         \u001b[0mstdTF\u001b[0m \u001b[0;34m=\u001b[0m \u001b[0mvalidTFs\u001b[0m\u001b[0;34m.\u001b[0m\u001b[0mstd\u001b[0m\u001b[0;34m(\u001b[0m\u001b[0;34m)\u001b[0m\u001b[0;34m\u001b[0m\u001b[0;34m\u001b[0m\u001b[0m\n\u001b[0;32m--> 108\u001b[0;31m         \u001b[0mmaxTF\u001b[0m \u001b[0;34m=\u001b[0m \u001b[0mmax\u001b[0m\u001b[0;34m(\u001b[0m\u001b[0;34m[\u001b[0m \u001b[0mx\u001b[0m\u001b[0;34m.\u001b[0m\u001b[0mtf\u001b[0m \u001b[0;32mfor\u001b[0m \u001b[0mx\u001b[0m \u001b[0;32min\u001b[0m \u001b[0mself\u001b[0m\u001b[0;34m.\u001b[0m\u001b[0mterms\u001b[0m\u001b[0;34m.\u001b[0m\u001b[0mvalues\u001b[0m\u001b[0;34m(\u001b[0m\u001b[0;34m)\u001b[0m\u001b[0;34m]\u001b[0m\u001b[0;34m)\u001b[0m\u001b[0;34m\u001b[0m\u001b[0;34m\u001b[0m\u001b[0m\n\u001b[0m\u001b[1;32m    109\u001b[0m         \u001b[0mlist\u001b[0m\u001b[0;34m(\u001b[0m\u001b[0mmap\u001b[0m\u001b[0;34m(\u001b[0m\u001b[0;32mlambda\u001b[0m \u001b[0mx\u001b[0m\u001b[0;34m:\u001b[0m \u001b[0mx\u001b[0m\u001b[0;34m.\u001b[0m\u001b[0mupdateH\u001b[0m\u001b[0;34m(\u001b[0m\u001b[0mmaxTF\u001b[0m\u001b[0;34m=\u001b[0m\u001b[0mmaxTF\u001b[0m\u001b[0;34m,\u001b[0m \u001b[0mavgTF\u001b[0m\u001b[0;34m=\u001b[0m\u001b[0mavgTF\u001b[0m\u001b[0;34m,\u001b[0m \u001b[0mstdTF\u001b[0m\u001b[0;34m=\u001b[0m\u001b[0mstdTF\u001b[0m\u001b[0;34m,\u001b[0m \u001b[0mnumber_of_sentences\u001b[0m\u001b[0;34m=\u001b[0m\u001b[0mself\u001b[0m\u001b[0;34m.\u001b[0m\u001b[0mnumber_of_sentences\u001b[0m\u001b[0;34m,\u001b[0m \u001b[0mfeatures\u001b[0m\u001b[0;34m=\u001b[0m\u001b[0mfeatures\u001b[0m\u001b[0;34m)\u001b[0m\u001b[0;34m,\u001b[0m \u001b[0mself\u001b[0m\u001b[0;34m.\u001b[0m\u001b[0mterms\u001b[0m\u001b[0;34m.\u001b[0m\u001b[0mvalues\u001b[0m\u001b[0;34m(\u001b[0m\u001b[0;34m)\u001b[0m\u001b[0;34m)\u001b[0m\u001b[0;34m)\u001b[0m\u001b[0;34m\u001b[0m\u001b[0;34m\u001b[0m\u001b[0m\n\u001b[1;32m    110\u001b[0m \u001b[0;34m\u001b[0m\u001b[0m\n",
      "\u001b[0;31mValueError\u001b[0m: max() arg is an empty sequence"
     ]
    }
   ]
  },
  {
   "cell_type": "code",
   "execution_count": null,
   "metadata": {},
   "outputs": [],
   "source": []
  }
 ]
}