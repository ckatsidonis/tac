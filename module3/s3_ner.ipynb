{
 "metadata": {
  "language_info": {
   "codemirror_mode": {
    "name": "ipython",
    "version": 3
   },
   "file_extension": ".py",
   "mimetype": "text/x-python",
   "name": "python",
   "nbconvert_exporter": "python",
   "pygments_lexer": "ipython3",
   "version": "3.8.3-final"
  },
  "orig_nbformat": 2,
  "kernelspec": {
   "name": "Python 3.8.3 64-bit ('base': conda)",
   "display_name": "Python 3.8.3 64-bit ('base': conda)",
   "metadata": {
    "interpreter": {
     "hash": "72644508ea7b1d2a8dd3342c15a5843ba29c4ffdf699d9a62787096f936c07f5"
    }
   }
  }
 },
 "nbformat": 4,
 "nbformat_minor": 2,
 "cells": [
  {
   "source": [
    "# Named-entity recognition with SpaCy"
   ],
   "cell_type": "markdown",
   "metadata": {}
  },
  {
   "cell_type": "code",
   "execution_count": null,
   "metadata": {},
   "outputs": [],
   "source": [
    "from collections import defaultdict\n",
    "import sys\n",
    "\n",
    "import spacy\n",
    "from spacy.lang.fr.examples import sentences"
   ]
  },
  {
   "source": [
    "Pour installer les modèles Spacy en français : `python -m spacy download fr_core_news_sm`"
   ],
   "cell_type": "markdown",
   "metadata": {
    "tags": []
   }
  },
  {
   "cell_type": "code",
   "execution_count": null,
   "metadata": {},
   "outputs": [],
   "source": [
    "nlp = spacy.load('fr_core_news_lg')"
   ]
  },
  {
   "source": [
    "# Exemple sur un corpus de Spacy"
   ],
   "cell_type": "markdown",
   "metadata": {}
  },
  {
   "cell_type": "code",
   "execution_count": null,
   "metadata": {},
   "outputs": [],
   "source": [
    "# Imprimer le corpus de Spacy\n",
    "\n",
    "sentences"
   ]
  },
  {
   "cell_type": "code",
   "execution_count": null,
   "metadata": {},
   "outputs": [],
   "source": [
    "def search(n=1000000):\n",
    "    text = open(\"../data/1945.txt\", encoding='utf-8').read()[:n]\n",
    "    doc = nlp(text)\n",
    "    people = defaultdict(int)\n",
    "    places = defaultdict(int)\n",
    "    orgas = defaultdict(int)\n",
    "    for ent in doc.ents:\n",
    "        if ent.label_ == \"PER\" and len(ent.text) > 5:\n",
    "            people[ent.text] += 1\n",
    "        elif ent.label_ == \"LOC\" and len(ent.text) > 5:\n",
    "            places[ent.text] += 1\n",
    "        elif ent.label_ == \"ORG\" and len(ent.text) > 5:\n",
    "            orgas[ent.text] += 1\n",
    "    \n",
    "    sorted_people = sorted(people.items(), key=lambda kv: kv[1], reverse=True)\n",
    "    print('\\n-------------PERSONNES------------\\n')  \n",
    "    for person, freq in sorted_people[:10]:\n",
    "        print(f\"{person} appears {freq} times in the corpus\")\n",
    "\n",
    "    sorted_places = sorted(places.items(), key=lambda kv: kv[1], reverse=True)\n",
    "    print('\\n-------------LIEUX------------\\n')\n",
    "    for place, freq in sorted_places[:10]:\n",
    "        print(f\"{place} appears {freq} times in the corpus\")\n",
    "    \n",
    "    sorted_orgas = sorted(orgas.items(), key=lambda kv: kv[1], reverse=True)\n",
    "    print('\\n-------------ORGANISATIONS------------\\n')\n",
    "    for orga, freq in sorted_orgas[:10]:\n",
    "        print(f\"{orga} appears {freq} times in the corpus\")    "
   ]
  },
  {
   "source": [
    "### La documentation est accessible ici, https://spacy.io/api/doc"
   ],
   "cell_type": "markdown",
   "metadata": {}
  },
  {
   "cell_type": "code",
   "execution_count": 5,
   "metadata": {
    "tags": []
   },
   "outputs": [
    {
     "output_type": "stream",
     "name": "stdout",
     "text": [
      "'Apple cherche à acheter une start-up anglaise pour 1 milliard de dollars' contains the following entities: Apple (ORG)\n'Les voitures autonomes déplacent la responsabilité de l'assurance vers les constructeurs' contains no entities\n'San Francisco envisage d'interdire les robots coursiers sur les trottoirs' contains the following entities: San Francisco (LOC)\n'Londres est une grande ville du Royaume-Uni' contains the following entities: Londres (LOC), Royaume (LOC), Uni (LOC)\n'L’Italie choisit ArcelorMittal pour reprendre la plus grande aciérie d’Europe' contains the following entities: Italie (LOC), ArcelorMittal (ORG), Europe (LOC)\n'Apple lance HomePod parce qu'il se sent menacé par l'Echo d'Amazon' contains the following entities: Apple (ORG), HomePod (MISC), Echo (MISC), Amazon (ORG)\n'La France ne devrait pas manquer d'électricité cet été, même en cas de canicule' contains the following entities: La France (LOC)\n'Nouvelles attaques de Trump contre le maire de Londres' contains the following entities: Trump (PER), Londres (LOC)\n'Où es-tu ?' contains no entities\n'Qui est le président de la France ?' contains the following entities: la France (LOC)\n'Où est la capitale des États-Unis ?' contains the following entities: États-Unis (LOC)\n'Quand est né Barack Obama ?' contains the following entities: Barack Obama (PER)\n"
     ]
    }
   ],
   "source": [
    "doc.text"
   ]
  },
  {
   "cell_type": "code",
   "execution_count": null,
   "metadata": {},
   "outputs": [],
   "source": [
    "doc.to_json()"
   ]
  },
  {
   "source": [
    "## Appliquer l'approche sur toutes les phrases"
   ],
   "cell_type": "markdown",
   "metadata": {}
  },
  {
   "cell_type": "code",
   "execution_count": 6,
   "metadata": {
    "tags": []
   },
   "outputs": [
    {
     "output_type": "stream",
     "name": "stdout",
     "text": [
      "\n-------------PERSONNES------------\n\nMessieurs appears 127 times in the corpus\nBrunfaut appears 88 times in the corpus\nVermeire appears 70 times in the corpus\nEchevin appears 52 times in the corpus\nSchmitz appears 49 times in the corpus\nEchevin Waucquez appears 45 times in the corpus\nCatteau appears 41 times in the corpus\nDemuyter appears 34 times in the corpus\nVerhaeghe de Naeyer appears 31 times in the corpus\nLepage appears 30 times in the corpus\n\n-------------LIEUX------------\n\nla Ville appears 184 times in the corpus\nBruxelles appears 147 times in the corpus\nVille de Bruxelles appears 81 times in the corpus\nBourgmestre appears 46 times in the corpus\nSchaerbeek appears 38 times in the corpus\nBudget appears 37 times in the corpus\nEchevins appears 37 times in the corpus\nSpeeckaert appears 35 times in the corpus\nDeboeck appears 33 times in the corpus\nCooremans appears 33 times in the corpus\n\n-------------ORGANISATIONS------------\n\nCollège appears 184 times in the corpus\nConseil appears 143 times in the corpus\nCommission d'Assistance publique appears 101 times in the corpus\nAdministration appears 94 times in the corpus\nMesdames appears 89 times in the corpus\nEcoles primaires appears 58 times in the corpus\nNomination appears 51 times in the corpus\nConseil communal appears 32 times in the corpus\nAdministration communale appears 22 times in the corpus\nService appears 21 times in the corpus\n"
     ]
    }
   ],
   "cell_type": "markdown",
   "metadata": {}
  },
  {
   "cell_type": "code",
   "execution_count": null,
   "metadata": {},
   "outputs": [],
   "source": [
    "# Charger le texte\n",
    "\n",
    "n=1000000\n",
    "text = open(\"../data/all.txt\", encoding='utf-8').read()[:n]"
   ]
  },
  {
   "cell_type": "code",
   "execution_count": null,
   "metadata": {},
   "outputs": [],
   "source": [
    "%%time\n",
    "# Traiter le texte\n",
    "\n",
    "doc = nlp(text)"
   ]
  },
  {
   "cell_type": "code",
   "execution_count": null,
   "metadata": {},
   "outputs": [],
   "source": [
    "search(n=1000000)"
   ]
  },
  {
   "cell_type": "code",
   "execution_count": null,
   "metadata": {},
   "outputs": [],
   "source": []
  }
 ]
}