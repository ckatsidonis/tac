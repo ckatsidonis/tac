{
 "metadata": {
  "language_info": {
   "codemirror_mode": {
    "name": "ipython",
    "version": 3
   },
   "file_extension": ".py",
   "mimetype": "text/x-python",
   "name": "python",
   "nbconvert_exporter": "python",
   "pygments_lexer": "ipython3",
   "version": "3.8.3-final"
  },
  "orig_nbformat": 2,
  "kernelspec": {
   "name": "Python 3.8.3 64-bit ('base': conda)",
   "display_name": "Python 3.8.3 64-bit ('base': conda)",
   "metadata": {
    "interpreter": {
     "hash": "72644508ea7b1d2a8dd3342c15a5843ba29c4ffdf699d9a62787096f936c07f5"
    }
   }
  }
 },
 "nbformat": 4,
 "nbformat_minor": 2,
 "cells": [
  {
   "source": [
    "# Named-entity recognition with SpaCy"
   ],
   "cell_type": "markdown",
   "metadata": {}
  },
  {
   "cell_type": "code",
   "execution_count": 1,
   "metadata": {},
   "outputs": [],
   "source": [
    "from collections import defaultdict\n",
    "import sys\n",
    "\n",
    "import spacy\n",
    "from spacy.lang.fr.examples import sentences"
   ]
  },
  {
   "source": [
    "Pour installer les modèles Spacy en français : `python -m spacy download fr_core_news_sm`"
   ],
   "cell_type": "markdown",
   "metadata": {
    "tags": []
   }
  },
  {
   "cell_type": "code",
   "execution_count": 2,
   "metadata": {},
   "outputs": [],
   "source": [
    "nlp = spacy.load('fr_core_news_lg')"
   ]
  },
  {
   "source": [
    "## Fonctions"
   ],
   "cell_type": "markdown",
   "metadata": {}
  },
  {
   "cell_type": "code",
   "execution_count": 3,
   "metadata": {},
   "outputs": [],
   "source": [
    "def test():\n",
    "    \"\"\"Basic test on sample sentences\"\"\"\n",
    "    for sent in sentences:\n",
    "        doc = nlp(sent)\n",
    "        entities = []\n",
    "        for ent in doc.ents:\n",
    "            entities.append(f\"{ent.text} ({ent.label_})\")\n",
    "        if entities:\n",
    "            print(f\"'{doc.text}' contains the following entities: {', '.join(entities)}\")\n",
    "        else:\n",
    "            print(f\"'{doc.text}' contains no entities\")"
   ]
  },
  {
   "cell_type": "code",
   "execution_count": 4,
   "metadata": {},
   "outputs": [],
   "source": [
    "def search(n=1000000):\n",
    "    text = open(\"../data/1945.txt\", encoding='utf-8').read()[:n]\n",
    "    doc = nlp(text)\n",
    "    people = defaultdict(int)\n",
    "    places = defaultdict(int)\n",
    "    orgas = defaultdict(int)\n",
    "    for ent in doc.ents:\n",
    "        if ent.label_ == \"PER\" and len(ent.text) > 8:\n",
    "            people[ent.text] += 1\n",
    "        elif ent.label_ == \"LOC\" and len(ent.text) > 8:\n",
    "            places[ent.text] += 1\n",
    "        elif ent.label_ == \"ORG\" and len(ent.text) > 8:\n",
    "            orgas[ent.text] += 1\n",
    "    \n",
    "    sorted_people = sorted(people.items(), key=lambda kv: kv[1], reverse=True)\n",
    "    print('\\n-------------PERSONNES------------\\n')  \n",
    "    for person, freq in sorted_people[:10]:\n",
    "        print(f\"{person} appears {freq} times in the corpus\")\n",
    "\n",
    "    sorted_places = sorted(places.items(), key=lambda kv: kv[1], reverse=True)\n",
    "    print('\\n-------------LIEUX------------\\n')\n",
    "    for place, freq in sorted_places[:10]:\n",
    "        print(f\"{place} appears {freq} times in the corpus\")\n",
    "    \n",
    "    sorted_orgas = sorted(orgas.items(), key=lambda kv: kv[1], reverse=True)\n",
    "    print('\\n-------------ORGANISATIONS------------\\n')\n",
    "    for orga, freq in sorted_orgas[:10]:\n",
    "        print(f\"{orga} appears {freq} times in the corpus\")    "
   ]
  },
  {
   "source": [
    "## NER sur des données de test"
   ],
   "cell_type": "markdown",
   "metadata": {}
  },
  {
   "cell_type": "code",
   "execution_count": 5,
   "metadata": {
    "tags": []
   },
   "outputs": [
    {
     "output_type": "stream",
     "name": "stdout",
     "text": [
      "'Apple cherche à acheter une start-up anglaise pour 1 milliard de dollars' contains the following entities: Apple (ORG)\n'Les voitures autonomes déplacent la responsabilité de l'assurance vers les constructeurs' contains no entities\n'San Francisco envisage d'interdire les robots coursiers sur les trottoirs' contains the following entities: San Francisco (LOC)\n'Londres est une grande ville du Royaume-Uni' contains the following entities: Londres (LOC), Royaume-Uni (LOC)\n'L’Italie choisit ArcelorMittal pour reprendre la plus grande aciérie d’Europe' contains the following entities: ArcelorMittal (MISC), Europe (LOC)\n'Apple lance HomePod parce qu'il se sent menacé par l'Echo d'Amazon' contains the following entities: Apple (ORG), HomePod (MISC), Echo (MISC)\n'La France ne devrait pas manquer d'électricité cet été, même en cas de canicule' contains the following entities: La France (LOC)\n'Nouvelles attaques de Trump contre le maire de Londres' contains the following entities: Trump (LOC), Londres (LOC)\n'Où es-tu ?' contains no entities\n'Qui est le président de la France ?' contains the following entities: la France (LOC)\n'Où est la capitale des États-Unis ?' contains the following entities: États-Unis (LOC)\n'Quand est né Barack Obama ?' contains the following entities: Barack Obama (PER)\n"
     ]
    }
   ],
   "source": [
    "test()"
   ]
  },
  {
   "source": [
    "## NER sur le corpus des bulletins communaux"
   ],
   "cell_type": "markdown",
   "metadata": {}
  },
  {
   "cell_type": "code",
   "execution_count": 6,
   "metadata": {
    "tags": []
   },
   "outputs": [
    {
     "output_type": "stream",
     "name": "stdout",
     "text": [
      "\n-------------PERSONNES------------\n\nEbénisterie appears 2 times in the corpus\nTypographie appears 1 times in the corpus\nLithographie appears 1 times in the corpus\nMenuiserie appears 1 times in the corpus\nSculpture appears 1 times in the corpus\nSecours d'Hiver appears 1 times in the corpus\nEcole Bischoffsheim appears 1 times in the corpus\nHenri Werrie appears 1 times in the corpus\nJohn Solvay appears 1 times in the corpus\n— Solidarité appears 1 times in the corpus\n\n-------------LIEUX------------\n\nMenuiserie appears 2 times in the corpus\nEbénistes appears 2 times in the corpus\nIndustrielle appears 1 times in the corpus\nPlomberie appears 1 times in the corpus\nBijouterie appears 1 times in the corpus\nEbénisterie appears 1 times in the corpus\nrue Haute appears 1 times in the corpus\nCS\n\nI. Nombre appears 1 times in the corpus\nrue du Marais appears 1 times in the corpus\nrue Guimard appears 1 times in the corpus\n\n-------------ORGANISATIONS------------\n\nSection normale appears 1 times in the corpus\nMarche des études appears 1 times in the corpus\nService social de l'Ecole appears 1 times in the corpus\nPHILANTHROPIQUE appears 1 times in the corpus\n— Ligue Braille appears 1 times in the corpus\nCroix-Rouge de Belgique appears 1 times in the corpus\n— Ligue nationale belge appears 1 times in the corpus\nSecours National appears 1 times in the corpus\n— Visites appears 1 times in the corpus\nBourses d'études appears 1 times in the corpus\n"
     ]
    }
   ],
   "source": [
    "search(n=10000)"
   ]
  }
 ]
}