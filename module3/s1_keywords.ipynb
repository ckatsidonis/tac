{
 "metadata": {
  "language_info": {
   "codemirror_mode": {
    "name": "ipython",
    "version": 3
   },
   "file_extension": ".py",
   "mimetype": "text/x-python",
   "name": "python",
   "nbconvert_exporter": "python",
   "pygments_lexer": "ipython3",
   "version": "3.9.0-final"
  },
  "orig_nbformat": 2,
  "kernelspec": {
   "name": "python3",
   "display_name": "Python 3.9.0 64-bit",
   "metadata": {
    "interpreter": {
     "hash": "aee8b7b246df8f9039afb4144a1f6fd8d2ca17a180786b69acc140d282b71a49"
    }
   }
  }
 },
 "nbformat": 4,
 "nbformat_minor": 2,
 "cells": [
  {
   "source": [
    "# Testing keyword extraction with YAKE"
   ],
   "cell_type": "markdown",
   "metadata": {}
  },
  {
   "cell_type": "code",
   "execution_count": 3,
   "metadata": {},
   "outputs": [],
   "source": [
    "import os\n",
    "import yake"
   ]
  },
  {
   "source": [
    "## Extraire les mots clés des documents avec YAKE"
   ],
   "cell_type": "markdown",
   "metadata": {}
  },
  {
   "cell_type": "code",
   "execution_count": 4,
   "metadata": {
    "tags": []
   },
   "outputs": [
    {
     "output_type": "execute_result",
     "data": {
      "text/plain": [
       "{'conseil communal', 'conseil général'}"
      ]
     },
     "metadata": {},
     "execution_count": 4
    }
   ],
   "source": [
    "ignored = set([\"conseil communal\", \"conseil général\"])\n",
    "\n",
    "ignored"
   ]
  },
  {
   "cell_type": "code",
   "execution_count": 5,
   "metadata": {},
   "outputs": [
    {
     "output_type": "execute_result",
     "data": {
      "text/plain": [
       "<yake.yake.KeywordExtractor at 0x7fdec093e670>"
      ]
     },
     "metadata": {},
     "execution_count": 5
    }
   ],
   "source": [
    "kw_extractor = yake.KeywordExtractor(lan=\"fr\", top=20)\n",
    "kw_extractor"
   ]
  },
  {
   "cell_type": "code",
   "execution_count": 6,
   "metadata": {},
   "outputs": [
    {
     "output_type": "execute_result",
     "data": {
      "text/plain": [
       "2828"
      ]
     },
     "metadata": {},
     "execution_count": 6
    }
   ],
   "source": [
    "data_path = \"../data/txt/\"\n",
    "files = os.listdir(data_path)\n",
    "len(files)"
   ]
  },
  {
   "cell_type": "code",
   "execution_count": 7,
   "metadata": {},
   "outputs": [
    {
     "output_type": "execute_result",
     "data": {
      "text/plain": [
       "['Bxl_1954_Tome_II_Part_10.txt',\n",
       " 'Bxl_1929_Tome_I_Part_2.txt',\n",
       " 'Bxl_1950_Tome_II_Part_7.txt',\n",
       " 'Bxl_1956_Tome_I_Part_13.txt',\n",
       " 'Bxl_1898_Tome_I1_Part_11.txt',\n",
       " 'Bxl_1890_Tome_I2_Part_4.txt',\n",
       " 'Bxl_1976_Tome_II1_Part_7.txt',\n",
       " 'Bxl_1971_Tome_II1_Part_2.txt',\n",
       " 'Bxl_1966_Tome_II2_Part_11.txt',\n",
       " 'Bxl_1926_Tome_II1_Part_16.txt',\n",
       " 'Bxl_1857_Tome_II1_Part_2.txt',\n",
       " 'Lkn_1881_Tome_I_Part_1.txt',\n",
       " 'Bxl_1912_Tome_I2_1_Part_8.txt',\n",
       " 'Bxl_1883_Tome_I2_Part_1.txt',\n",
       " 'Bxl_1864_Tome_I1_Part_2.txt',\n",
       " 'Bxl_1850_Tome_II1_Part_7.txt',\n",
       " 'Bxl_1935_Tome_I_Part_3.txt',\n",
       " 'Bxl_1920_Tome_I2_Part_7.txt',\n",
       " 'Bxl_1881_Tome_I1_Part_5.txt',\n",
       " 'Bxl_1934_Tome_I_Part_5.txt']"
      ]
     },
     "metadata": {},
     "execution_count": 7
    }
   ],
   "source": [
    "files[:20]"
   ]
  },
  {
   "cell_type": "code",
   "execution_count": 13,
   "metadata": {},
   "outputs": [
    {
     "output_type": "execute_result",
     "data": {
      "text/plain": [
       "2677"
      ]
     },
     "metadata": {},
     "execution_count": 13
    }
   ],
   "source": [
    "bxl_files = [f for f in files if f.startswith('Bxl_')]\n",
    "len(bxl_files)"
   ]
  },
  {
   "cell_type": "code",
   "execution_count": 12,
   "metadata": {},
   "outputs": [
    {
     "output_type": "execute_result",
     "data": {
      "text/plain": [
       "'Bxl_1926_Tome_II1_Part_6.txt'"
      ]
     },
     "metadata": {},
     "execution_count": 12
    }
   ],
   "source": [
    "this_file = bxl_files[42]\n",
    "this_file"
   ]
  },
  {
   "cell_type": "code",
   "execution_count": 11,
   "metadata": {},
   "outputs": [
    {
     "output_type": "stream",
     "name": "stdout",
     "text": [
      "Bxl_1847_Tome_I1_Part_1.txt mentions these keywords: d'un marché couvert, marchés couverts, d'un marché dans, d'un marché, marché couvert, nouveau marché, l'établissement d'un marché, marché dans, construction d'un marché...\n",
      "Bxl_1847_Tome_I1_Part_2.txt mentions these keywords: belgique communale, l'administration communale...\n",
      "Bxl_1847_Tome_I1_Part_3.txt mentions these keywords: rue royale, rue royale neuve, rue royale d'une, rue royale jusqu'à, rue royale serait, rue royale extérieure...\n",
      "Bxl_1847_Tome_I1_Part_4.txt mentions these keywords: rue royale, conseil provincial, rue duquesnoy, ville de bruxelles...\n",
      "Bxl_1847_Tome_I1_Part_5.txt mentions these keywords: dépôt de mendicité, domicile de secours...\n",
      "Bxl_1848_Tome_I1_Part_1.txt mentions these keywords: conseils de prud'hommes, d'un conseil, l'institution d'un conseil, l'établissement d'un conseil, l'organisation d'un conseil, conseil dos prud'hommes, conseil d'un plan...\n",
      "Bxl_1848_Tome_I1_Part_2.txt mentions these keywords: société civile...\n",
      "Bxl_1848_Tome_I1_Part_3.txt mentions these keywords: hardy de beaulieu...\n",
      "Bxl_1849_Tome_I1_Part_1.txt mentions these keywords: section des finances...\n",
      "Bxl_1849_Tome_I1_Part_2.txt mentions these keywords: voie publique, section des travaux, ville de bruxelles...\n"
     ]
    }
   ],
   "source": [
    "for f in sorted(files)[:10]:\n",
    "    if f.startswith(\"Bxl_\"):\n",
    "        text = open(f'{data_path}/{f}', encoding='latin-1').read()\n",
    "        keywords = kw_extractor.extract_keywords(text)\n",
    "        kept = []\n",
    "        for kw, score in keywords:\n",
    "            words = kw.split()\n",
    "            if len(words) > 1 and kw not in ignored:\n",
    "                kept.append(kw)\n",
    "        print(f\"{f} mentions these keywords: {', '.join(kept)}...\")"
   ]
  },
  {
   "cell_type": "code",
   "execution_count": null,
   "metadata": {},
   "outputs": [],
   "source": []
  }
 ]
}