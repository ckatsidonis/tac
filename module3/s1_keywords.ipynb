{
 "metadata": {
  "language_info": {
   "codemirror_mode": {
    "name": "ipython",
    "version": 3
   },
   "file_extension": ".py",
   "mimetype": "text/x-python",
   "name": "python",
   "nbconvert_exporter": "python",
   "pygments_lexer": "ipython3",
   "version": "3.9.0-final"
  },
  "orig_nbformat": 2,
  "kernelspec": {
   "name": "Python 3.9.0 64-bit",
   "display_name": "Python 3.9.0 64-bit",
   "metadata": {
    "interpreter": {
     "hash": "aee8b7b246df8f9039afb4144a1f6fd8d2ca17a180786b69acc140d282b71a49"
    }
   }
  }
 },
 "nbformat": 4,
 "nbformat_minor": 2,
 "cells": [
  {
   "source": [
    "# Testing keyword extraction with YAKE"
   ],
   "cell_type": "markdown",
   "metadata": {}
  },
  {
   "cell_type": "code",
   "execution_count": 1,
   "metadata": {},
   "outputs": [],
   "source": [
    "import os\n",
    "import yake"
   ]
  },
  {
   "source": [
    "## Extraire les mots clés des documents avec YAKE"
   ],
   "cell_type": "markdown",
   "metadata": {}
  },
  {
   "cell_type": "code",
   "execution_count": 2,
   "metadata": {
    "tags": []
   },
   "outputs": [
    {
     "output_type": "error",
     "ename": "IndentationError",
     "evalue": "unexpected indent (<ipython-input-2-3bbe3881fd75>, line 13)",
     "traceback": [
      "\u001b[0;36m  File \u001b[0;32m\"<ipython-input-2-3bbe3881fd75>\"\u001b[0;36m, line \u001b[0;32m13\u001b[0m\n\u001b[0;31m    if len(words) > 1 and kw not in ignored:\u001b[0m\n\u001b[0m    ^\u001b[0m\n\u001b[0;31mIndentationError\u001b[0m\u001b[0;31m:\u001b[0m unexpected indent\n"
     ]
    }
   ],
   "source": [
    "ignored = set([\"conseil communal\", \"conseil général\"])\n",
    "\n",
    "kw_extractor = yake.KeywordExtractor(lan=\"fr\", top=20)\n",
    "data_path = \"../data/txt/\"\n",
    "files = os.listdir(data_path)\n",
    "for f in sorted(files):\n",
    "    if f.startswith(\"Bxl_\"):\n",
    "        text = open(f'{data_path}/{f}', encoding=\"latin-1\").read()\n",
    "        keywords = kw_extractor.extract_keywords(text)\n",
    "        kept = []\n",
    "        for score, kw in keywords:\n",
    "            words = kw.split()\n",
    "            if len(words) > 1 and kw not in ignored:\n",
    "                kept.append(kw)\n",
    "        print(f\"{f} mentions these keywords: {', '.join(kept)}...\")"
   ]
  }
 ]
}