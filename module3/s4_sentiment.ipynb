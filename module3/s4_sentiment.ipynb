{
 "metadata": {
  "language_info": {
   "codemirror_mode": {
    "name": "ipython",
    "version": 3
   },
   "file_extension": ".py",
   "mimetype": "text/x-python",
   "name": "python",
   "nbconvert_exporter": "python",
   "pygments_lexer": "ipython3",
   "version": "3.8.3-final"
  },
  "orig_nbformat": 2,
  "kernelspec": {
   "name": "Python 3.8.3 64-bit ('base': conda)",
   "display_name": "Python 3.8.3 64-bit ('base': conda)",
   "metadata": {
    "interpreter": {
     "hash": "72644508ea7b1d2a8dd3342c15a5843ba29c4ffdf699d9a62787096f936c07f5"
    }
   }
  }
 },
 "nbformat": 4,
 "nbformat_minor": 2,
 "cells": [
  {
   "source": [
    "# Sentiment analysis with Textblob-FR"
   ],
   "cell_type": "markdown",
   "metadata": {}
  },
  {
   "cell_type": "code",
   "execution_count": null,
   "metadata": {},
   "outputs": [],
   "source": [
    "import sys\n",
    "\n",
    "from textblob import Blobber\n",
    "from textblob_fr import PatternTagger, PatternAnalyzer"
   ]
  },
  {
   "source": [
    "## Fonction"
   ],
   "cell_type": "markdown",
   "metadata": {}
  },
  {
   "cell_type": "code",
   "execution_count": null,
   "metadata": {},
   "outputs": [],
   "source": [
    "tb = Blobber(pos_tagger=PatternTagger(), analyzer=PatternAnalyzer())\n",
    "\n",
    "def get_sentiment(input_text):\n",
    "    blob = tb(input_text)\n",
    "    pola, subj = blob.sentiment\n",
    "    perc = f\"{100*abs(pola):.0f}\"\n",
    "    if pola > 0:\n",
    "        sent = f\"{perc}% positive\"\n",
    "    elif pola < 0:\n",
    "        sent = f\"{perc}% negative\"\n",
    "    else:\n",
    "        sent = \"neutral\"\n",
    "    if subj > 0:\n",
    "        fact = f\"{100*subj:.0f}% subjective\"\n",
    "    else:\n",
    "        fact = \"perfectly objective\"\n",
    "    print(f\"This text is {sent} and {fact}.\")"
   ]
  },
  {
   "source": [
    "## Analyser le sentiment d'une phrase"
   ],
   "cell_type": "markdown",
   "metadata": {}
  },
  {
   "cell_type": "code",
   "execution_count": 3,
   "metadata": {
    "tags": []
   },
   "outputs": [],
   "source": [
    "get_sentiment(\"Ce conseil municipal est vraiment super intéressant.\")"
   ]
  },
  {
   "cell_type": "code",
   "execution_count": 4,
   "metadata": {
    "tags": []
   },
   "outputs": [],
   "source": [
    "get_sentiment(\"Cette phrase est négative et je ne suis pas content !\")"
   ]
  },
  {
   "cell_type": "code",
   "execution_count": 5,
   "metadata": {},
   "outputs": [
    {
     "output_type": "stream",
     "name": "stdout",
     "text": [
      "This text is 30% negative and perfectly objective.\n"
     ]
    }
   ],
   "source": [
    "get_sentiment(\"La guerre et les conséquences de l'occupation ont eu une influence très défavorable sur la régularité de la fréquentation scolaire, principalement aux cours du soir.\")"
   ]
  },
  {
   "cell_type": "code",
   "execution_count": 6,
   "metadata": {},
   "outputs": [
    {
     "output_type": "stream",
     "name": "stdout",
     "text": [
      "This text is 5% negative and 37% subjective.\n"
     ]
    }
   ],
   "source": [
    "get_sentiment(\"Quoique le manque de combustible nous ait obligées à réduire les heures de travail pendant quelques semaines, les études se sont poursuivies, pendant ce laps de temps, et les branches essentielles, ont peu souffert des réductions forcées de cours.\")"
   ]
  },
  {
   "cell_type": "code",
   "execution_count": 8,
   "metadata": {},
   "outputs": [
    {
     "output_type": "stream",
     "name": "stdout",
     "text": [
      "This text is 4% positive and 20% subjective.\n"
     ]
    }
   ],
   "source": [
    "get_sentiment(\"Ce service constitué en août 1940, est chargé de liquider au moyen des avances de l'Etat les indemnités dues pour les immeubles privés qui ont été réquisitionnés dans l'agglomération bruxelloise par l'autorité allemande.\")"
   ]
  },
  {
   "cell_type": "code",
   "execution_count": 9,
   "metadata": {},
   "outputs": [
    {
     "output_type": "stream",
     "name": "stdout",
     "text": [
      "This text is neutral and 50% subjective.\n"
     ]
    }
   ],
   "source": [
    "get_sentiment(\"Il est donc tout-à-fait indiqué pour la Ville de Bruxelles de prendre une décision en ce qui concerne le chauffage urbain même.\")"
   ]
  },
  {
   "cell_type": "code",
   "execution_count": 10,
   "metadata": {},
   "outputs": [
    {
     "output_type": "stream",
     "name": "stdout",
     "text": [
      "This text is 15% negative and 40% subjective.\n"
     ]
    }
   ],
   "source": [
    "get_sentiment(\"Les cotisations inférieures à cinq francs ne sont pas enrôlées.\")"
   ]
  },
  {
   "cell_type": "code",
   "execution_count": 11,
   "metadata": {},
   "outputs": [
    {
     "output_type": "stream",
     "name": "stdout",
     "text": [
      "This text is neutral and perfectly objective.\n"
     ]
    }
   ],
   "source": [
    "get_sentiment(\"En ce qui nous regarde, nous estimons que cette décision est insuffisante.\")"
   ]
  },
  {
   "cell_type": "code",
   "execution_count": 12,
   "metadata": {},
   "outputs": [
    {
     "output_type": "stream",
     "name": "stdout",
     "text": [
      "This text is 38% positive and 40% subjective.\n"
     ]
    }
   ],
   "source": [
    "get_sentiment(\"L'électricité utilisée à l'éclairage dans les centres industriels ou elle représente 10 à 15 % de l'ensemble, peut être vendue à bon marché parce qu'elle est utilisée en dehors des heures de fonctionnement maxima des usines lequel se produit généralement le matin.\")"
   ]
  },
  {
   "cell_type": "code",
   "execution_count": 13,
   "metadata": {},
   "outputs": [
    {
     "output_type": "stream",
     "name": "stdout",
     "text": [
      "This text is 50% positive and 50% subjective.\n"
     ]
    }
   ],
   "source": [
    "get_sentiment(\"Je vous serais obligé de ne pas oublier l'Ecole de Musique de Laeken qui a accompli un effort très grand et qui mérite des encouragements.\") "
   ]
  },
  {
   "cell_type": "code",
   "execution_count": 14,
   "metadata": {},
   "outputs": [
    {
     "output_type": "stream",
     "name": "stdout",
     "text": [
      "This text is 10% positive and 19% subjective.\n"
     ]
    }
   ],
   "source": [
    "get_sentiment(\"Dans le cas du déplacement du cimetière, les concessionnaires n'auront d'autre droit que l'obtention gratuite dans le nouveau cimetière, d'un terrain de même étendue que celui qui leur est présentement concédé.\")"
   ]
  },
  {
   "cell_type": "code",
   "execution_count": 15,
   "metadata": {},
   "outputs": [
    {
     "output_type": "stream",
     "name": "stdout",
     "text": [
      "This text is 14% positive and 5% subjective.\n"
     ]
    }
   ],
   "source": [
    "get_sentiment(\"En l'espèce, en réalité, la Commune d'Uccle nous a ravi le nom de Winston Churchill que nous aurions certainement donné à une de nos artères, notamment au boulevard de Waterloo.\")"
   ]
  }
 ]
}