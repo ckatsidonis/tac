{
 "metadata": {
  "language_info": {
   "codemirror_mode": {
    "name": "ipython",
    "version": 3
   },
   "file_extension": ".py",
   "mimetype": "text/x-python",
   "name": "python",
   "nbconvert_exporter": "python",
   "pygments_lexer": "ipython3",
   "version": "3.9.0-final"
  },
  "orig_nbformat": 2,
  "kernelspec": {
   "name": "python3",
   "display_name": "Python 3.9.0 64-bit",
   "metadata": {
    "interpreter": {
     "hash": "aee8b7b246df8f9039afb4144a1f6fd8d2ca17a180786b69acc140d282b71a49"
    }
   }
  }
 },
 "nbformat": 4,
 "nbformat_minor": 2,
 "cells": [
  {
   "source": [
    "# Query Wikidata for Belgian politicians"
   ],
   "cell_type": "markdown",
   "metadata": {}
  },
  {
   "cell_type": "code",
   "execution_count": 1,
   "metadata": {},
   "outputs": [],
   "source": [
    "from datetime import datetime as dt\n",
    "\n",
    "from SPARQLWrapper import SPARQLWrapper, JSON"
   ]
  },
  {
   "source": [
    "## Fonctions"
   ],
   "cell_type": "markdown",
   "metadata": {}
  },
  {
   "cell_type": "code",
   "execution_count": 2,
   "metadata": {},
   "outputs": [],
   "source": [
    "def get_rows():\n",
    "    \"\"\"Retrieve results from SPARQL\"\"\"\n",
    "    endpoint = \"https://query.wikidata.org/bigdata/namespace/wdq/sparql\"\n",
    "    sparql = SPARQLWrapper(endpoint)\n",
    "\n",
    "    statement = \"\"\"\n",
    "    SELECT DISTINCT ?person ?personLabel ?dateBirth ?dateDeath WHERE {\n",
    "        ?person wdt:P27 wd:Q31 .\n",
    "        ?person wdt:P106 wd:Q82955 .\n",
    "        ?person wdt:P569 ?dateBirth .\n",
    "        OPTIONAL {?person wdt:P570 ?dateDeath .}\n",
    "        SERVICE wikibase:label { bd:serviceParam wikibase:language \"en\" . }\n",
    "    }\n",
    "    ORDER BY ?personLabel\n",
    "    \"\"\"\n",
    "\n",
    "    sparql.setQuery(statement)\n",
    "    sparql.setReturnFormat(JSON)\n",
    "    results = sparql.query().convert()\n",
    "\n",
    "    rows = results['results']['bindings']\n",
    "    print(f\"\\n{len(rows)} Belgian politicians found\\n\")\n",
    "    return rows"
   ]
  },
  {
   "cell_type": "code",
   "execution_count": 3,
   "metadata": {},
   "outputs": [],
   "source": [
    "def show(rows, name_filter=None, n=10):\n",
    "    \"\"\"Display n politicians (default=10)\"\"\"\n",
    "    date_format = \"%Y-%m-%dT%H:%M:%SZ\"\n",
    "    if name_filter:\n",
    "        rows = [row for row in rows if name_filter in row['personLabel']['value'].lower()]\n",
    "    print(f\"Displaying the first {n}:\\n\")\n",
    "    for row in rows[:n]:\n",
    "        try:\n",
    "            birth_date = dt.strptime(row['dateBirth']['value'], date_format)\n",
    "            birth_year = birth_date.year\n",
    "        except ValueError:\n",
    "            birth_year = \"????\"\n",
    "        try:\n",
    "            death_date = dt.strptime(row['dateDeath']['value'], date_format)\n",
    "            death_year = death_date.year\n",
    "        except ValueError: # unknown death date\n",
    "            death_year = \"????\"\n",
    "        except KeyError: # still alive\n",
    "            death_year = \"\"\n",
    "        print(f\"{row['personLabel']['value']} ({birth_year}-{death_year})\")"
   ]
  },
  {
   "source": [
    "## Obtenir une liste des politiciens belges depuis Wiki Data "
   ],
   "cell_type": "markdown",
   "metadata": {}
  },
  {
   "cell_type": "code",
   "execution_count": 4,
   "metadata": {
    "tags": []
   },
   "outputs": [
    {
     "output_type": "stream",
     "name": "stdout",
     "text": [
      "\n7489 Belgian politicians found\n\n"
     ]
    }
   ],
   "source": [
    "rows = get_rows()"
   ]
  },
  {
   "cell_type": "code",
   "execution_count": 5,
   "metadata": {},
   "outputs": [
    {
     "output_type": "execute_result",
     "data": {
      "text/plain": [
       "[{'person': {'type': 'uri',\n",
       "   'value': 'http://www.wikidata.org/entity/Q101444565'},\n",
       "  'personLabel': {'type': 'literal', 'value': 'Q101444565'},\n",
       "  'dateBirth': {'datatype': 'http://www.w3.org/2001/XMLSchema#dateTime',\n",
       "   'type': 'literal',\n",
       "   'value': '1967-07-03T00:00:00Z'}},\n",
       " {'person': {'type': 'uri',\n",
       "   'value': 'http://www.wikidata.org/entity/Q17350686'},\n",
       "  'personLabel': {'xml:lang': 'en',\n",
       "   'type': 'literal',\n",
       "   'value': 'Abdallah Kanfaoui'},\n",
       "  'dateBirth': {'datatype': 'http://www.w3.org/2001/XMLSchema#dateTime',\n",
       "   'type': 'literal',\n",
       "   'value': '1968-05-21T00:00:00Z'}},\n",
       " {'person': {'type': 'uri',\n",
       "   'value': 'http://www.wikidata.org/entity/Q13461801'},\n",
       "  'personLabel': {'xml:lang': 'en',\n",
       "   'type': 'literal',\n",
       "   'value': 'Abdelaziz Charkaoui Hajri'},\n",
       "  'dateBirth': {'datatype': 'http://www.w3.org/2001/XMLSchema#dateTime',\n",
       "   'type': 'literal',\n",
       "   'value': '1951-01-01T00:00:00Z'}},\n",
       " {'person': {'type': 'uri',\n",
       "   'value': 'http://www.wikidata.org/entity/Q27903935'},\n",
       "  'personLabel': {'xml:lang': 'en',\n",
       "   'type': 'literal',\n",
       "   'value': 'Abderrahim Lahlali'},\n",
       "  'dateBirth': {'datatype': 'http://www.w3.org/2001/XMLSchema#dateTime',\n",
       "   'type': 'literal',\n",
       "   'value': '1978-01-01T00:00:00Z'}},\n",
       " {'person': {'type': 'uri',\n",
       "   'value': 'http://www.wikidata.org/entity/Q3294738'},\n",
       "  'personLabel': {'xml:lang': 'en', 'type': 'literal', 'value': 'Abdon Comyn'},\n",
       "  'dateBirth': {'datatype': 'http://www.w3.org/2001/XMLSchema#dateTime',\n",
       "   'type': 'literal',\n",
       "   'value': '1914-09-02T00:00:00Z'},\n",
       "  'dateDeath': {'datatype': 'http://www.w3.org/2001/XMLSchema#dateTime',\n",
       "   'type': 'literal',\n",
       "   'value': '1965-07-25T00:00:00Z'}},\n",
       " {'person': {'type': 'uri',\n",
       "   'value': 'http://www.wikidata.org/entity/Q2504207'},\n",
       "  'personLabel': {'xml:lang': 'en',\n",
       "   'type': 'literal',\n",
       "   'value': 'Abdon Demarneffe'},\n",
       "  'dateBirth': {'datatype': 'http://www.w3.org/2001/XMLSchema#dateTime',\n",
       "   'type': 'literal',\n",
       "   'value': '1906-11-17T00:00:00Z'},\n",
       "  'dateDeath': {'datatype': 'http://www.w3.org/2001/XMLSchema#dateTime',\n",
       "   'type': 'literal',\n",
       "   'value': '1992-02-20T00:00:00Z'}},\n",
       " {'person': {'type': 'uri',\n",
       "   'value': 'http://www.wikidata.org/entity/Q14848887'},\n",
       "  'personLabel': {'xml:lang': 'en',\n",
       "   'type': 'literal',\n",
       "   'value': 'Abel Braconnier'},\n",
       "  'dateBirth': {'datatype': 'http://www.w3.org/2001/XMLSchema#dateTime',\n",
       "   'type': 'literal',\n",
       "   'value': '1870-02-18T00:00:00Z'},\n",
       "  'dateDeath': {'datatype': 'http://www.w3.org/2001/XMLSchema#dateTime',\n",
       "   'type': 'literal',\n",
       "   'value': '1936-02-29T00:00:00Z'}},\n",
       " {'person': {'type': 'uri',\n",
       "   'value': 'http://www.wikidata.org/entity/Q14848888'},\n",
       "  'personLabel': {'xml:lang': 'en',\n",
       "   'type': 'literal',\n",
       "   'value': 'Abel Charloteaux'},\n",
       "  'dateBirth': {'datatype': 'http://www.w3.org/2001/XMLSchema#dateTime',\n",
       "   'type': 'literal',\n",
       "   'value': '1897-03-02T00:00:00Z'},\n",
       "  'dateDeath': {'datatype': 'http://www.w3.org/2001/XMLSchema#dateTime',\n",
       "   'type': 'literal',\n",
       "   'value': '1982-05-24T00:00:00Z'}},\n",
       " {'person': {'type': 'uri',\n",
       "   'value': 'http://www.wikidata.org/entity/Q2230999'},\n",
       "  'personLabel': {'xml:lang': 'en', 'type': 'literal', 'value': 'Abel Dubois'},\n",
       "  'dateBirth': {'datatype': 'http://www.w3.org/2001/XMLSchema#dateTime',\n",
       "   'type': 'literal',\n",
       "   'value': '1921-01-05T00:00:00Z'},\n",
       "  'dateDeath': {'datatype': 'http://www.w3.org/2001/XMLSchema#dateTime',\n",
       "   'type': 'literal',\n",
       "   'value': '1989-10-18T00:00:00Z'}},\n",
       " {'person': {'type': 'uri',\n",
       "   'value': 'http://www.wikidata.org/entity/Q2444148'},\n",
       "  'personLabel': {'xml:lang': 'en',\n",
       "   'type': 'literal',\n",
       "   'value': \"Abel de Kerchove d'Exaerde\"},\n",
       "  'dateBirth': {'datatype': 'http://www.w3.org/2001/XMLSchema#dateTime',\n",
       "   'type': 'literal',\n",
       "   'value': '1839-01-30T00:00:00Z'},\n",
       "  'dateDeath': {'datatype': 'http://www.w3.org/2001/XMLSchema#dateTime',\n",
       "   'type': 'literal',\n",
       "   'value': '1914-04-21T00:00:00Z'}}]"
      ]
     },
     "metadata": {},
     "execution_count": 5
    }
   ],
   "source": [
    "rows[:10]"
   ]
  },
  {
   "source": [
    "## Imprimer les 30 premiers politiciens"
   ],
   "cell_type": "markdown",
   "metadata": {}
  },
  {
   "cell_type": "code",
   "execution_count": 6,
   "metadata": {
    "tags": []
   },
   "outputs": [
    {
     "output_type": "stream",
     "name": "stdout",
     "text": [
      "Displaying the first 30:\n\nQ101444565 (1967-)\nAbdallah Kanfaoui (1968-)\nAbdelaziz Charkaoui Hajri (1951-)\nAbderrahim Lahlali (1978-)\nAbdon Comyn (1914-1965)\nAbdon Demarneffe (1906-1992)\nAbel Braconnier (1870-1936)\nAbel Charloteaux (1897-1982)\nAbel Dubois (1921-1989)\nAbel de Kerchove d'Exaerde (1839-1914)\nAbraham Leon (1918-1944)\nAchiel De Keyser (1889-1961)\nAchiel Denys (1878-1933)\nAchiel Heyman (1888-1975)\nAchiel Lauwers (1864-1910)\nAchiel Pittery (1912-2008)\nAchiel Smets (1931-2005)\nAchiel Vandenabeele (1922-2018)\nAchiel Verstraete (1898-1980)\nAchiel Wallays (1895-1978)\nAchille Albert Eeman (1852-1920)\nAchille Colignon (1813-1891)\nAchille Debrus (1934-)\nAchille Delattre (1879-1964)\nAchille Diegenant (1936-2019)\nAchille Heyndrickx (1888-1953)\nAchille Huart Hamoir (1841-1913)\nAchille Legrand (1831-1897)\nAchille Van Acker (1898-1975)\nAchille Vleurinck (1913-1959)\n"
     ]
    }
   ],
   "source": [
    "show(rows, n=30)"
   ]
  },
  {
   "source": [
    "## Filter pour afficher seulement les noms contenant \"elio\""
   ],
   "cell_type": "markdown",
   "metadata": {}
  },
  {
   "cell_type": "code",
   "execution_count": 13,
   "metadata": {
    "tags": []
   },
   "outputs": [
    {
     "output_type": "stream",
     "name": "stdout",
     "text": [
      "Displaying the first 10:\n\nAlexandre Charles Joseph Ghislain d'Aubremé (1776-1835)\nAntoine Charles Hennequin de Villermont (1815-1893)\nCharles Aimé Emmanuel van der Meere van Cruyshautem (1766-1837)\nCharles Alexandre de Liedekerke Beaufort (1764-1846)\nCharles Andries (1821-1878)\nCharles Antheunis (1802-1882)\nCharles Aubecq (1926-2015)\nCharles Bailly (1914-1991)\nCharles Beaucourt (1773-1846)\nCharles Belamy (1817-1889)\n"
     ]
    }
   ],
   "source": [
    "show(rows, name_filter=\"charles\")"
   ]
  },
  {
   "cell_type": "code",
   "execution_count": null,
   "metadata": {},
   "outputs": [],
   "source": []
  }
 ]
}